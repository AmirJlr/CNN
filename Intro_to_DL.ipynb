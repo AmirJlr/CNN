{
  "nbformat": 4,
  "nbformat_minor": 0,
  "metadata": {
    "colab": {
      "provenance": [],
      "include_colab_link": true
    },
    "kernelspec": {
      "name": "python3",
      "display_name": "Python 3"
    },
    "accelerator": "GPU"
  },
  "cells": [
    {
      "cell_type": "markdown",
      "metadata": {
        "id": "view-in-github",
        "colab_type": "text"
      },
      "source": [
        "<a href=\"https://colab.research.google.com/github/AmirJlr/Deep-Learning/blob/master/Intro_to_DL.ipynb\" target=\"_parent\"><img src=\"https://colab.research.google.com/assets/colab-badge.svg\" alt=\"Open In Colab\"/></a>"
      ]
    },
    {
      "cell_type": "code",
      "metadata": {
        "id": "ysdOFeEEV4CK",
        "colab": {
          "base_uri": "https://localhost:8080/",
          "height": 35
        },
        "outputId": "0c09182f-419f-4356-c263-5a9d8a0d7a1e"
      },
      "source": [
        "\"\"\"\n",
        "\n",
        "Try to build a NN model to classify 3, 7\n",
        "\n",
        "\n",
        "\"\"\""
      ],
      "execution_count": 41,
      "outputs": [
        {
          "output_type": "execute_result",
          "data": {
            "text/plain": [
              "'\\n\\nTry to build a NN model to classify 3, 7\\n\\n\\n'"
            ],
            "application/vnd.google.colaboratory.intrinsic+json": {
              "type": "string"
            }
          },
          "metadata": {},
          "execution_count": 41
        }
      ]
    },
    {
      "cell_type": "code",
      "metadata": {
        "id": "G93mj5KKQEhH",
        "colab": {
          "base_uri": "https://localhost:8080/"
        },
        "outputId": "bdf37992-076f-44d9-ac9f-f19a0bd6c8ed"
      },
      "source": [
        "!pip install -Uqq fastbook\n",
        "import fastbook\n",
        "# fastbook.setup_book() # mount GDrive \n",
        "from fastbook import *\n",
        "from matplotlib import pyplot as plt"
      ],
      "execution_count": 4,
      "outputs": [
        {
          "output_type": "stream",
          "name": "stdout",
          "text": [
            "\u001b[K     |████████████████████████████████| 719 kB 19.1 MB/s \n",
            "\u001b[K     |████████████████████████████████| 452 kB 49.6 MB/s \n",
            "\u001b[K     |████████████████████████████████| 5.8 MB 40.4 MB/s \n",
            "\u001b[K     |████████████████████████████████| 1.3 MB 11.9 MB/s \n",
            "\u001b[K     |████████████████████████████████| 1.6 MB 52.7 MB/s \n",
            "\u001b[K     |████████████████████████████████| 182 kB 70.2 MB/s \n",
            "\u001b[K     |████████████████████████████████| 132 kB 77.0 MB/s \n",
            "\u001b[K     |████████████████████████████████| 213 kB 80.4 MB/s \n",
            "\u001b[K     |████████████████████████████████| 127 kB 65.4 MB/s \n",
            "\u001b[K     |████████████████████████████████| 7.6 MB 62.5 MB/s \n",
            "\u001b[?25h"
          ]
        }
      ]
    },
    {
      "cell_type": "markdown",
      "metadata": {
        "id": "hewnfiYxdi_T"
      },
      "source": [
        "We will work on a small subset of MNIST dataset which contains only two digits (3 and 7):"
      ]
    },
    {
      "cell_type": "code",
      "metadata": {
        "id": "N1hXZ-94i8FN",
        "colab": {
          "base_uri": "https://localhost:8080/",
          "height": 54
        },
        "outputId": "001d47f0-fe4a-4f1c-c81a-519f8c9ca7cc"
      },
      "source": [
        "path = untar_data(URLs.MNIST_SAMPLE)\n",
        "path"
      ],
      "execution_count": 5,
      "outputs": [
        {
          "output_type": "display_data",
          "data": {
            "text/plain": [
              "<IPython.core.display.HTML object>"
            ],
            "text/html": [
              "\n",
              "<style>\n",
              "    /* Turns off some styling */\n",
              "    progress {\n",
              "        /* gets rid of default border in Firefox and Opera. */\n",
              "        border: none;\n",
              "        /* Needs to be in here for Safari polyfill so background images work as expected. */\n",
              "        background-size: auto;\n",
              "    }\n",
              "    progress:not([value]), progress:not([value])::-webkit-progress-bar {\n",
              "        background: repeating-linear-gradient(45deg, #7e7e7e, #7e7e7e 10px, #5c5c5c 10px, #5c5c5c 20px);\n",
              "    }\n",
              "    .progress-bar-interrupted, .progress-bar-interrupted::-webkit-progress-bar {\n",
              "        background: #F44336;\n",
              "    }\n",
              "</style>\n"
            ]
          },
          "metadata": {}
        },
        {
          "output_type": "display_data",
          "data": {
            "text/plain": [
              "<IPython.core.display.HTML object>"
            ],
            "text/html": [
              "\n",
              "    <div>\n",
              "      <progress value='3219456' class='' max='3214948' style='width:300px; height:20px; vertical-align: middle;'></progress>\n",
              "      100.14% [3219456/3214948 00:01&lt;00:00]\n",
              "    </div>\n",
              "    "
            ]
          },
          "metadata": {}
        },
        {
          "output_type": "execute_result",
          "data": {
            "text/plain": [
              "Path('/root/.fastai/data/mnist_sample')"
            ]
          },
          "metadata": {},
          "execution_count": 5
        }
      ]
    },
    {
      "cell_type": "code",
      "metadata": {
        "colab": {
          "base_uri": "https://localhost:8080/"
        },
        "id": "6PrENLtKdJTA",
        "outputId": "d1953027-bcb8-4b26-d1aa-77c45a6d5434"
      },
      "source": [
        "path.ls()"
      ],
      "execution_count": 6,
      "outputs": [
        {
          "output_type": "execute_result",
          "data": {
            "text/plain": [
              "(#3) [Path('/root/.fastai/data/mnist_sample/labels.csv'),Path('/root/.fastai/data/mnist_sample/train'),Path('/root/.fastai/data/mnist_sample/valid')]"
            ]
          },
          "metadata": {},
          "execution_count": 6
        }
      ]
    },
    {
      "cell_type": "markdown",
      "metadata": {
        "id": "jWeqc-ZMtF4r"
      },
      "source": [
        "We can set the BASE_PATH to path so that we start from there and not the /root/.fastai..."
      ]
    },
    {
      "cell_type": "code",
      "metadata": {
        "id": "bBJEbTpBjsvK"
      },
      "source": [
        "Path.BASE_PATH = path"
      ],
      "execution_count": 7,
      "outputs": []
    },
    {
      "cell_type": "code",
      "metadata": {
        "colab": {
          "base_uri": "https://localhost:8080/"
        },
        "id": "CSMKqMsHjMsF",
        "outputId": "8cfe8155-e2e4-4804-b234-067afc5f2a5d"
      },
      "source": [
        "(path).ls()"
      ],
      "execution_count": 8,
      "outputs": [
        {
          "output_type": "execute_result",
          "data": {
            "text/plain": [
              "(#3) [Path('labels.csv'),Path('train'),Path('valid')]"
            ]
          },
          "metadata": {},
          "execution_count": 8
        }
      ]
    },
    {
      "cell_type": "code",
      "metadata": {
        "id": "-rn42EcVfqcp",
        "colab": {
          "base_uri": "https://localhost:8080/"
        },
        "outputId": "c606d50f-e7cc-451d-f3c5-6187e43182a6"
      },
      "source": [
        "(path /\"train\").ls()"
      ],
      "execution_count": 9,
      "outputs": [
        {
          "output_type": "execute_result",
          "data": {
            "text/plain": [
              "(#2) [Path('train/3'),Path('train/7')]"
            ]
          },
          "metadata": {},
          "execution_count": 9
        }
      ]
    },
    {
      "cell_type": "code",
      "metadata": {
        "id": "Wr1tHhXdjMgT"
      },
      "source": [
        "threes = (path/'train/3').ls().sorted()\n",
        "sevens = (path/'train/7').ls().sorted()"
      ],
      "execution_count": 10,
      "outputs": []
    },
    {
      "cell_type": "code",
      "metadata": {
        "id": "3STeygGchLW-",
        "colab": {
          "base_uri": "https://localhost:8080/",
          "height": 45
        },
        "outputId": "1bf58a02-6459-442b-8e0f-3bff27d30db0"
      },
      "source": [
        "sevens\n",
        "im7_path = sevens[54]\n",
        "im7 = Image.open(im7_path)\n",
        "im7"
      ],
      "execution_count": 11,
      "outputs": [
        {
          "output_type": "execute_result",
          "data": {
            "text/plain": [
              "<PIL.PngImagePlugin.PngImageFile image mode=L size=28x28>"
            ],
            "image/png": "[encoded data removed]"
          },
          "metadata": {},
          "execution_count": 11
        }
      ]
    },
    {
      "cell_type": "code",
      "metadata": {
        "id": "ef8D6phBjLoI",
        "colab": {
          "base_uri": "https://localhost:8080/",
          "height": 273
        },
        "outputId": "a60929ed-c0ac-49a4-ad49-323242f359df"
      },
      "source": [
        "# --- We can convert PILImageFile to a numpy array or a tensor (on GPU):\n",
        "# im7_array = array(im7)\n",
        "# plt.imshow(im7_array)\n",
        "im7_tensor = tensor(im7)\n",
        "plt.imshow(im7_tensor[4:15, 4:22])"
      ],
      "execution_count": 12,
      "outputs": [
        {
          "output_type": "execute_result",
          "data": {
            "text/plain": [
              "<matplotlib.image.AxesImage at 0x7fd14d94f430>"
            ]
          },
          "metadata": {},
          "execution_count": 12
        },
        {
          "output_type": "display_data",
          "data": {
            "text/plain": [
              "<Figure size 432x288 with 1 Axes>"
            ],
            "image/png": "[encoded data removed]"
          },
          "metadata": {
            "needs_background": "light"
          }
        }
      ]
    },
    {
      "cell_type": "code",
      "metadata": {
        "colab": {
          "base_uri": "https://localhost:8080/",
          "height": 394
        },
        "id": "yIL5wE1yjIc-",
        "outputId": "25337b95-38db-4517-8dba-acc2e33880ed"
      },
      "source": [
        "# --- We can also use pandas DF to vizualize them in a neat way:\n",
        "df = pd.DataFrame(im7_tensor[4:15, 4:22])\n",
        "df.style.set_properties(**{'font-size': '6pt'}).background_gradient('BuPu')"
      ],
      "execution_count": 13,
      "outputs": [
        {
          "output_type": "execute_result",
          "data": {
            "text/plain": [
              "<pandas.io.formats.style.Styler at 0x7fd14d8bc880>"
            ],
            "text/html": [
              "<style type=\"text/css\">\n",
              "#T_0f282_row0_col0, #T_0f282_row0_col1, #T_0f282_row0_col2, #T_0f282_row0_col3, #T_0f282_row0_col4, #T_0f282_row0_col5, #T_0f282_row0_col6, #T_0f282_row0_col7, #T_0f282_row0_col8, #T_0f282_row0_col9, #T_0f282_row0_col10, #T_0f282_row0_col11, #T_0f282_row0_col12, #T_0f282_row0_col13, #T_0f282_row0_col14, #T_0f282_row0_col15, #T_0f282_row0_col16, #T_0f282_row0_col17, #T_0f282_row1_col0, #T_0f282_row1_col1, #T_0f282_row1_col2, #T_0f282_row1_col3, #T_0f282_row1_col4, #T_0f282_row1_col5, #T_0f282_row1_col6, #T_0f282_row1_col7, #T_0f282_row1_col8, #T_0f282_row1_col9, #T_0f282_row1_col10, #T_0f282_row1_col11, #T_0f282_row1_col12, #T_0f282_row1_col13, #T_0f282_row1_col14, #T_0f282_row1_col15, #T_0f282_row1_col16, #T_0f282_row1_col17, #T_0f282_row2_col0, #T_0f282_row2_col1, #T_0f282_row2_col2, #T_0f282_row2_col3, #T_0f282_row2_col4, #T_0f282_row2_col17, #T_0f282_row3_col0, #T_0f282_row3_col1, #T_0f282_row3_col2, #T_0f282_row3_col3, #T_0f282_row3_col17, #T_0f282_row4_col0, #T_0f282_row4_col1, #T_0f282_row4_col2, #T_0f282_row4_col3, #T_0f282_row4_col17, #T_0f282_row5_col0, #T_0f282_row5_col1, #T_0f282_row5_col2, #T_0f282_row5_col3, #T_0f282_row5_col4, #T_0f282_row5_col17, #T_0f282_row6_col0, #T_0f282_row6_col1, #T_0f282_row6_col2, #T_0f282_row6_col3, #T_0f282_row6_col4, #T_0f282_row6_col5, #T_0f282_row6_col6, #T_0f282_row6_col7, #T_0f282_row6_col8, #T_0f282_row6_col9, #T_0f282_row6_col10, #T_0f282_row6_col11, #T_0f282_row6_col17, #T_0f282_row7_col0, #T_0f282_row7_col1, #T_0f282_row7_col2, #T_0f282_row7_col3, #T_0f282_row7_col4, #T_0f282_row7_col5, #T_0f282_row7_col6, #T_0f282_row7_col7, #T_0f282_row7_col8, #T_0f282_row7_col9, #T_0f282_row7_col10, #T_0f282_row7_col17, #T_0f282_row8_col0, #T_0f282_row8_col1, #T_0f282_row8_col2, #T_0f282_row8_col3, #T_0f282_row8_col4, #T_0f282_row8_col5, #T_0f282_row8_col6, #T_0f282_row8_col7, #T_0f282_row8_col8, #T_0f282_row8_col9, #T_0f282_row8_col10, #T_0f282_row8_col16, #T_0f282_row8_col17, #T_0f282_row9_col0, #T_0f282_row9_col1, #T_0f282_row9_col2, #T_0f282_row9_col3, #T_0f282_row9_col4, #T_0f282_row9_col5, #T_0f282_row9_col6, #T_0f282_row9_col7, #T_0f282_row9_col8, #T_0f282_row9_col9, #T_0f282_row9_col10, #T_0f282_row9_col16, #T_0f282_row9_col17, #T_0f282_row10_col0, #T_0f282_row10_col1, #T_0f282_row10_col2, #T_0f282_row10_col3, #T_0f282_row10_col4, #T_0f282_row10_col5, #T_0f282_row10_col6, #T_0f282_row10_col7, #T_0f282_row10_col8, #T_0f282_row10_col9, #T_0f282_row10_col15, #T_0f282_row10_col16, #T_0f282_row10_col17 {\n",
              "  font-size: 6pt;\n",
              "  background-color: #f7fcfd;\n",
              "  color: #000000;\n",
              "}\n",
              "#T_0f282_row2_col5 {\n",
              "  font-size: 6pt;\n",
              "  background-color: #d4e3ef;\n",
              "  color: #000000;\n",
              "}\n",
              "#T_0f282_row2_col6, #T_0f282_row2_col7, #T_0f282_row2_col8 {\n",
              "  font-size: 6pt;\n",
              "  background-color: #8c8dc2;\n",
              "  color: #f1f1f1;\n",
              "}\n",
              "#T_0f282_row2_col9 {\n",
              "  font-size: 6pt;\n",
              "  background-color: #8948a0;\n",
              "  color: #f1f1f1;\n",
              "}\n",
              "#T_0f282_row2_col10, #T_0f282_row2_col11, #T_0f282_row2_col12, #T_0f282_row2_col13, #T_0f282_row2_col14, #T_0f282_row3_col4, #T_0f282_row3_col5, #T_0f282_row3_col6, #T_0f282_row3_col7, #T_0f282_row3_col8, #T_0f282_row3_col9, #T_0f282_row3_col15, #T_0f282_row3_col16, #T_0f282_row4_col6, #T_0f282_row4_col7, #T_0f282_row4_col8, #T_0f282_row4_col9, #T_0f282_row4_col15, #T_0f282_row4_col16, #T_0f282_row5_col15, #T_0f282_row5_col16, #T_0f282_row6_col15 {\n",
              "  font-size: 6pt;\n",
              "  background-color: #4d004b;\n",
              "  color: #f1f1f1;\n",
              "}\n",
              "#T_0f282_row2_col15 {\n",
              "  font-size: 6pt;\n",
              "  background-color: #7b0d76;\n",
              "  color: #f1f1f1;\n",
              "}\n",
              "#T_0f282_row2_col16 {\n",
              "  font-size: 6pt;\n",
              "  background-color: #cbdceb;\n",
              "  color: #000000;\n",
              "}\n",
              "#T_0f282_row3_col10, #T_0f282_row3_col12, #T_0f282_row3_col13, #T_0f282_row3_col14, #T_0f282_row4_col10, #T_0f282_row4_col12, #T_0f282_row4_col13, #T_0f282_row4_col14, #T_0f282_row5_col13, #T_0f282_row5_col14, #T_0f282_row6_col13, #T_0f282_row6_col14, #T_0f282_row7_col13, #T_0f282_row7_col14, #T_0f282_row8_col12, #T_0f282_row8_col13, #T_0f282_row8_col14, #T_0f282_row9_col12, #T_0f282_row9_col13, #T_0f282_row10_col12, #T_0f282_row10_col13 {\n",
              "  font-size: 6pt;\n",
              "  background-color: #4f004d;\n",
              "  color: #f1f1f1;\n",
              "}\n",
              "#T_0f282_row3_col11, #T_0f282_row4_col11, #T_0f282_row10_col11 {\n",
              "  font-size: 6pt;\n",
              "  background-color: #50014e;\n",
              "  color: #f1f1f1;\n",
              "}\n",
              "#T_0f282_row4_col4 {\n",
              "  font-size: 6pt;\n",
              "  background-color: #8a59a8;\n",
              "  color: #f1f1f1;\n",
              "}\n",
              "#T_0f282_row4_col5 {\n",
              "  font-size: 6pt;\n",
              "  background-color: #670864;\n",
              "  color: #f1f1f1;\n",
              "}\n",
              "#T_0f282_row5_col5 {\n",
              "  font-size: 6pt;\n",
              "  background-color: #bacfe4;\n",
              "  color: #000000;\n",
              "}\n",
              "#T_0f282_row5_col6 {\n",
              "  font-size: 6pt;\n",
              "  background-color: #909fcb;\n",
              "  color: #f1f1f1;\n",
              "}\n",
              "#T_0f282_row5_col7, #T_0f282_row9_col14 {\n",
              "  font-size: 6pt;\n",
              "  background-color: #8b64ad;\n",
              "  color: #f1f1f1;\n",
              "}\n",
              "#T_0f282_row5_col8, #T_0f282_row5_col9 {\n",
              "  font-size: 6pt;\n",
              "  background-color: #a9c4de;\n",
              "  color: #000000;\n",
              "}\n",
              "#T_0f282_row5_col10, #T_0f282_row5_col11, #T_0f282_row10_col14 {\n",
              "  font-size: 6pt;\n",
              "  background-color: #aac4de;\n",
              "  color: #000000;\n",
              "}\n",
              "#T_0f282_row5_col12 {\n",
              "  font-size: 6pt;\n",
              "  background-color: #9bb6d7;\n",
              "  color: #000000;\n",
              "}\n",
              "#T_0f282_row6_col12 {\n",
              "  font-size: 6pt;\n",
              "  background-color: #95a8d0;\n",
              "  color: #f1f1f1;\n",
              "}\n",
              "#T_0f282_row6_col16 {\n",
              "  font-size: 6pt;\n",
              "  background-color: #8c8fc2;\n",
              "  color: #f1f1f1;\n",
              "}\n",
              "#T_0f282_row7_col11 {\n",
              "  font-size: 6pt;\n",
              "  background-color: #d3e2ef;\n",
              "  color: #000000;\n",
              "}\n",
              "#T_0f282_row7_col12 {\n",
              "  font-size: 6pt;\n",
              "  background-color: #770c73;\n",
              "  color: #f1f1f1;\n",
              "}\n",
              "#T_0f282_row7_col15 {\n",
              "  font-size: 6pt;\n",
              "  background-color: #84258b;\n",
              "  color: #f1f1f1;\n",
              "}\n",
              "#T_0f282_row7_col16 {\n",
              "  font-size: 6pt;\n",
              "  background-color: #e9f2f8;\n",
              "  color: #000000;\n",
              "}\n",
              "#T_0f282_row8_col11 {\n",
              "  font-size: 6pt;\n",
              "  background-color: #8c90c3;\n",
              "  color: #f1f1f1;\n",
              "}\n",
              "#T_0f282_row8_col15 {\n",
              "  font-size: 6pt;\n",
              "  background-color: #8c74b5;\n",
              "  color: #f1f1f1;\n",
              "}\n",
              "#T_0f282_row9_col11 {\n",
              "  font-size: 6pt;\n",
              "  background-color: #6a0867;\n",
              "  color: #f1f1f1;\n",
              "}\n",
              "#T_0f282_row9_col15 {\n",
              "  font-size: 6pt;\n",
              "  background-color: #f0f7fa;\n",
              "  color: #000000;\n",
              "}\n",
              "#T_0f282_row10_col10 {\n",
              "  font-size: 6pt;\n",
              "  background-color: #95aad0;\n",
              "  color: #f1f1f1;\n",
              "}\n",
              "</style>\n",
              "<table id=\"T_0f282_\" class=\"dataframe\">\n",
              "  <thead>\n",
              "    <tr>\n",
              "      <th class=\"blank level0\" >&nbsp;</th>\n",
              "      <th class=\"col_heading level0 col0\" >0</th>\n",
              "      <th class=\"col_heading level0 col1\" >1</th>\n",
              "      <th class=\"col_heading level0 col2\" >2</th>\n",
              "      <th class=\"col_heading level0 col3\" >3</th>\n",
              "      <th class=\"col_heading level0 col4\" >4</th>\n",
              "      <th class=\"col_heading level0 col5\" >5</th>\n",
              "      <th class=\"col_heading level0 col6\" >6</th>\n",
              "      <th class=\"col_heading level0 col7\" >7</th>\n",
              "      <th class=\"col_heading level0 col8\" >8</th>\n",
              "      <th class=\"col_heading level0 col9\" >9</th>\n",
              "      <th class=\"col_heading level0 col10\" >10</th>\n",
              "      <th class=\"col_heading level0 col11\" >11</th>\n",
              "      <th class=\"col_heading level0 col12\" >12</th>\n",
              "      <th class=\"col_heading level0 col13\" >13</th>\n",
              "      <th class=\"col_heading level0 col14\" >14</th>\n",
              "      <th class=\"col_heading level0 col15\" >15</th>\n",
              "      <th class=\"col_heading level0 col16\" >16</th>\n",
              "      <th class=\"col_heading level0 col17\" >17</th>\n",
              "    </tr>\n",
              "  </thead>\n",
              "  <tbody>\n",
              "    <tr>\n",
              "      <th id=\"T_0f282_level0_row0\" class=\"row_heading level0 row0\" >0</th>\n",
              "      <td id=\"T_0f282_row0_col0\" class=\"data row0 col0\" >0</td>\n",
              "      <td id=\"T_0f282_row0_col1\" class=\"data row0 col1\" >0</td>\n",
              "      <td id=\"T_0f282_row0_col2\" class=\"data row0 col2\" >0</td>\n",
              "      <td id=\"T_0f282_row0_col3\" class=\"data row0 col3\" >0</td>\n",
              "      <td id=\"T_0f282_row0_col4\" class=\"data row0 col4\" >0</td>\n",
              "      <td id=\"T_0f282_row0_col5\" class=\"data row0 col5\" >0</td>\n",
              "      <td id=\"T_0f282_row0_col6\" class=\"data row0 col6\" >0</td>\n",
              "      <td id=\"T_0f282_row0_col7\" class=\"data row0 col7\" >0</td>\n",
              "      <td id=\"T_0f282_row0_col8\" class=\"data row0 col8\" >0</td>\n",
              "      <td id=\"T_0f282_row0_col9\" class=\"data row0 col9\" >0</td>\n",
              "      <td id=\"T_0f282_row0_col10\" class=\"data row0 col10\" >0</td>\n",
              "      <td id=\"T_0f282_row0_col11\" class=\"data row0 col11\" >0</td>\n",
              "      <td id=\"T_0f282_row0_col12\" class=\"data row0 col12\" >0</td>\n",
              "      <td id=\"T_0f282_row0_col13\" class=\"data row0 col13\" >0</td>\n",
              "      <td id=\"T_0f282_row0_col14\" class=\"data row0 col14\" >0</td>\n",
              "      <td id=\"T_0f282_row0_col15\" class=\"data row0 col15\" >0</td>\n",
              "      <td id=\"T_0f282_row0_col16\" class=\"data row0 col16\" >0</td>\n",
              "      <td id=\"T_0f282_row0_col17\" class=\"data row0 col17\" >0</td>\n",
              "    </tr>\n",
              "    <tr>\n",
              "      <th id=\"T_0f282_level0_row1\" class=\"row_heading level0 row1\" >1</th>\n",
              "      <td id=\"T_0f282_row1_col0\" class=\"data row1 col0\" >0</td>\n",
              "      <td id=\"T_0f282_row1_col1\" class=\"data row1 col1\" >0</td>\n",
              "      <td id=\"T_0f282_row1_col2\" class=\"data row1 col2\" >0</td>\n",
              "      <td id=\"T_0f282_row1_col3\" class=\"data row1 col3\" >0</td>\n",
              "      <td id=\"T_0f282_row1_col4\" class=\"data row1 col4\" >0</td>\n",
              "      <td id=\"T_0f282_row1_col5\" class=\"data row1 col5\" >0</td>\n",
              "      <td id=\"T_0f282_row1_col6\" class=\"data row1 col6\" >0</td>\n",
              "      <td id=\"T_0f282_row1_col7\" class=\"data row1 col7\" >0</td>\n",
              "      <td id=\"T_0f282_row1_col8\" class=\"data row1 col8\" >0</td>\n",
              "      <td id=\"T_0f282_row1_col9\" class=\"data row1 col9\" >0</td>\n",
              "      <td id=\"T_0f282_row1_col10\" class=\"data row1 col10\" >0</td>\n",
              "      <td id=\"T_0f282_row1_col11\" class=\"data row1 col11\" >0</td>\n",
              "      <td id=\"T_0f282_row1_col12\" class=\"data row1 col12\" >0</td>\n",
              "      <td id=\"T_0f282_row1_col13\" class=\"data row1 col13\" >0</td>\n",
              "      <td id=\"T_0f282_row1_col14\" class=\"data row1 col14\" >0</td>\n",
              "      <td id=\"T_0f282_row1_col15\" class=\"data row1 col15\" >0</td>\n",
              "      <td id=\"T_0f282_row1_col16\" class=\"data row1 col16\" >0</td>\n",
              "      <td id=\"T_0f282_row1_col17\" class=\"data row1 col17\" >0</td>\n",
              "    </tr>\n",
              "    <tr>\n",
              "      <th id=\"T_0f282_level0_row2\" class=\"row_heading level0 row2\" >2</th>\n",
              "      <td id=\"T_0f282_row2_col0\" class=\"data row2 col0\" >0</td>\n",
              "      <td id=\"T_0f282_row2_col1\" class=\"data row2 col1\" >0</td>\n",
              "      <td id=\"T_0f282_row2_col2\" class=\"data row2 col2\" >0</td>\n",
              "      <td id=\"T_0f282_row2_col3\" class=\"data row2 col3\" >0</td>\n",
              "      <td id=\"T_0f282_row2_col4\" class=\"data row2 col4\" >0</td>\n",
              "      <td id=\"T_0f282_row2_col5\" class=\"data row2 col5\" >38</td>\n",
              "      <td id=\"T_0f282_row2_col6\" class=\"data row2 col6\" >132</td>\n",
              "      <td id=\"T_0f282_row2_col7\" class=\"data row2 col7\" >132</td>\n",
              "      <td id=\"T_0f282_row2_col8\" class=\"data row2 col8\" >132</td>\n",
              "      <td id=\"T_0f282_row2_col9\" class=\"data row2 col9\" >184</td>\n",
              "      <td id=\"T_0f282_row2_col10\" class=\"data row2 col10\" >253</td>\n",
              "      <td id=\"T_0f282_row2_col11\" class=\"data row2 col11\" >255</td>\n",
              "      <td id=\"T_0f282_row2_col12\" class=\"data row2 col12\" >253</td>\n",
              "      <td id=\"T_0f282_row2_col13\" class=\"data row2 col13\" >253</td>\n",
              "      <td id=\"T_0f282_row2_col14\" class=\"data row2 col14\" >253</td>\n",
              "      <td id=\"T_0f282_row2_col15\" class=\"data row2 col15\" >224</td>\n",
              "      <td id=\"T_0f282_row2_col16\" class=\"data row2 col16\" >37</td>\n",
              "      <td id=\"T_0f282_row2_col17\" class=\"data row2 col17\" >0</td>\n",
              "    </tr>\n",
              "    <tr>\n",
              "      <th id=\"T_0f282_level0_row3\" class=\"row_heading level0 row3\" >3</th>\n",
              "      <td id=\"T_0f282_row3_col0\" class=\"data row3 col0\" >0</td>\n",
              "      <td id=\"T_0f282_row3_col1\" class=\"data row3 col1\" >0</td>\n",
              "      <td id=\"T_0f282_row3_col2\" class=\"data row3 col2\" >0</td>\n",
              "      <td id=\"T_0f282_row3_col3\" class=\"data row3 col3\" >0</td>\n",
              "      <td id=\"T_0f282_row3_col4\" class=\"data row3 col4\" >28</td>\n",
              "      <td id=\"T_0f282_row3_col5\" class=\"data row3 col5\" >222</td>\n",
              "      <td id=\"T_0f282_row3_col6\" class=\"data row3 col6\" >252</td>\n",
              "      <td id=\"T_0f282_row3_col7\" class=\"data row3 col7\" >252</td>\n",
              "      <td id=\"T_0f282_row3_col8\" class=\"data row3 col8\" >252</td>\n",
              "      <td id=\"T_0f282_row3_col9\" class=\"data row3 col9\" >252</td>\n",
              "      <td id=\"T_0f282_row3_col10\" class=\"data row3 col10\" >252</td>\n",
              "      <td id=\"T_0f282_row3_col11\" class=\"data row3 col11\" >253</td>\n",
              "      <td id=\"T_0f282_row3_col12\" class=\"data row3 col12\" >252</td>\n",
              "      <td id=\"T_0f282_row3_col13\" class=\"data row3 col13\" >252</td>\n",
              "      <td id=\"T_0f282_row3_col14\" class=\"data row3 col14\" >252</td>\n",
              "      <td id=\"T_0f282_row3_col15\" class=\"data row3 col15\" >252</td>\n",
              "      <td id=\"T_0f282_row3_col16\" class=\"data row3 col16\" >180</td>\n",
              "      <td id=\"T_0f282_row3_col17\" class=\"data row3 col17\" >0</td>\n",
              "    </tr>\n",
              "    <tr>\n",
              "      <th id=\"T_0f282_level0_row4\" class=\"row_heading level0 row4\" >4</th>\n",
              "      <td id=\"T_0f282_row4_col0\" class=\"data row4 col0\" >0</td>\n",
              "      <td id=\"T_0f282_row4_col1\" class=\"data row4 col1\" >0</td>\n",
              "      <td id=\"T_0f282_row4_col2\" class=\"data row4 col2\" >0</td>\n",
              "      <td id=\"T_0f282_row4_col3\" class=\"data row4 col3\" >0</td>\n",
              "      <td id=\"T_0f282_row4_col4\" class=\"data row4 col4\" >19</td>\n",
              "      <td id=\"T_0f282_row4_col5\" class=\"data row4 col5\" >208</td>\n",
              "      <td id=\"T_0f282_row4_col6\" class=\"data row4 col6\" >252</td>\n",
              "      <td id=\"T_0f282_row4_col7\" class=\"data row4 col7\" >252</td>\n",
              "      <td id=\"T_0f282_row4_col8\" class=\"data row4 col8\" >252</td>\n",
              "      <td id=\"T_0f282_row4_col9\" class=\"data row4 col9\" >252</td>\n",
              "      <td id=\"T_0f282_row4_col10\" class=\"data row4 col10\" >252</td>\n",
              "      <td id=\"T_0f282_row4_col11\" class=\"data row4 col11\" >253</td>\n",
              "      <td id=\"T_0f282_row4_col12\" class=\"data row4 col12\" >252</td>\n",
              "      <td id=\"T_0f282_row4_col13\" class=\"data row4 col13\" >252</td>\n",
              "      <td id=\"T_0f282_row4_col14\" class=\"data row4 col14\" >252</td>\n",
              "      <td id=\"T_0f282_row4_col15\" class=\"data row4 col15\" >252</td>\n",
              "      <td id=\"T_0f282_row4_col16\" class=\"data row4 col16\" >180</td>\n",
              "      <td id=\"T_0f282_row4_col17\" class=\"data row4 col17\" >0</td>\n",
              "    </tr>\n",
              "    <tr>\n",
              "      <th id=\"T_0f282_level0_row5\" class=\"row_heading level0 row5\" >5</th>\n",
              "      <td id=\"T_0f282_row5_col0\" class=\"data row5 col0\" >0</td>\n",
              "      <td id=\"T_0f282_row5_col1\" class=\"data row5 col1\" >0</td>\n",
              "      <td id=\"T_0f282_row5_col2\" class=\"data row5 col2\" >0</td>\n",
              "      <td id=\"T_0f282_row5_col3\" class=\"data row5 col3\" >0</td>\n",
              "      <td id=\"T_0f282_row5_col4\" class=\"data row5 col4\" >0</td>\n",
              "      <td id=\"T_0f282_row5_col5\" class=\"data row5 col5\" >60</td>\n",
              "      <td id=\"T_0f282_row5_col6\" class=\"data row5 col6\" >119</td>\n",
              "      <td id=\"T_0f282_row5_col7\" class=\"data row5 col7\" >163</td>\n",
              "      <td id=\"T_0f282_row5_col8\" class=\"data row5 col8\" >84</td>\n",
              "      <td id=\"T_0f282_row5_col9\" class=\"data row5 col9\" >84</td>\n",
              "      <td id=\"T_0f282_row5_col10\" class=\"data row5 col10\" >84</td>\n",
              "      <td id=\"T_0f282_row5_col11\" class=\"data row5 col11\" >84</td>\n",
              "      <td id=\"T_0f282_row5_col12\" class=\"data row5 col12\" >100</td>\n",
              "      <td id=\"T_0f282_row5_col13\" class=\"data row5 col13\" >252</td>\n",
              "      <td id=\"T_0f282_row5_col14\" class=\"data row5 col14\" >252</td>\n",
              "      <td id=\"T_0f282_row5_col15\" class=\"data row5 col15\" >252</td>\n",
              "      <td id=\"T_0f282_row5_col16\" class=\"data row5 col16\" >180</td>\n",
              "      <td id=\"T_0f282_row5_col17\" class=\"data row5 col17\" >0</td>\n",
              "    </tr>\n",
              "    <tr>\n",
              "      <th id=\"T_0f282_level0_row6\" class=\"row_heading level0 row6\" >6</th>\n",
              "      <td id=\"T_0f282_row6_col0\" class=\"data row6 col0\" >0</td>\n",
              "      <td id=\"T_0f282_row6_col1\" class=\"data row6 col1\" >0</td>\n",
              "      <td id=\"T_0f282_row6_col2\" class=\"data row6 col2\" >0</td>\n",
              "      <td id=\"T_0f282_row6_col3\" class=\"data row6 col3\" >0</td>\n",
              "      <td id=\"T_0f282_row6_col4\" class=\"data row6 col4\" >0</td>\n",
              "      <td id=\"T_0f282_row6_col5\" class=\"data row6 col5\" >0</td>\n",
              "      <td id=\"T_0f282_row6_col6\" class=\"data row6 col6\" >0</td>\n",
              "      <td id=\"T_0f282_row6_col7\" class=\"data row6 col7\" >0</td>\n",
              "      <td id=\"T_0f282_row6_col8\" class=\"data row6 col8\" >0</td>\n",
              "      <td id=\"T_0f282_row6_col9\" class=\"data row6 col9\" >0</td>\n",
              "      <td id=\"T_0f282_row6_col10\" class=\"data row6 col10\" >0</td>\n",
              "      <td id=\"T_0f282_row6_col11\" class=\"data row6 col11\" >0</td>\n",
              "      <td id=\"T_0f282_row6_col12\" class=\"data row6 col12\" >111</td>\n",
              "      <td id=\"T_0f282_row6_col13\" class=\"data row6 col13\" >252</td>\n",
              "      <td id=\"T_0f282_row6_col14\" class=\"data row6 col14\" >252</td>\n",
              "      <td id=\"T_0f282_row6_col15\" class=\"data row6 col15\" >252</td>\n",
              "      <td id=\"T_0f282_row6_col16\" class=\"data row6 col16\" >94</td>\n",
              "      <td id=\"T_0f282_row6_col17\" class=\"data row6 col17\" >0</td>\n",
              "    </tr>\n",
              "    <tr>\n",
              "      <th id=\"T_0f282_level0_row7\" class=\"row_heading level0 row7\" >7</th>\n",
              "      <td id=\"T_0f282_row7_col0\" class=\"data row7 col0\" >0</td>\n",
              "      <td id=\"T_0f282_row7_col1\" class=\"data row7 col1\" >0</td>\n",
              "      <td id=\"T_0f282_row7_col2\" class=\"data row7 col2\" >0</td>\n",
              "      <td id=\"T_0f282_row7_col3\" class=\"data row7 col3\" >0</td>\n",
              "      <td id=\"T_0f282_row7_col4\" class=\"data row7 col4\" >0</td>\n",
              "      <td id=\"T_0f282_row7_col5\" class=\"data row7 col5\" >0</td>\n",
              "      <td id=\"T_0f282_row7_col6\" class=\"data row7 col6\" >0</td>\n",
              "      <td id=\"T_0f282_row7_col7\" class=\"data row7 col7\" >0</td>\n",
              "      <td id=\"T_0f282_row7_col8\" class=\"data row7 col8\" >0</td>\n",
              "      <td id=\"T_0f282_row7_col9\" class=\"data row7 col9\" >0</td>\n",
              "      <td id=\"T_0f282_row7_col10\" class=\"data row7 col10\" >0</td>\n",
              "      <td id=\"T_0f282_row7_col11\" class=\"data row7 col11\" >44</td>\n",
              "      <td id=\"T_0f282_row7_col12\" class=\"data row7 col12\" >227</td>\n",
              "      <td id=\"T_0f282_row7_col13\" class=\"data row7 col13\" >252</td>\n",
              "      <td id=\"T_0f282_row7_col14\" class=\"data row7 col14\" >252</td>\n",
              "      <td id=\"T_0f282_row7_col15\" class=\"data row7 col15\" >206</td>\n",
              "      <td id=\"T_0f282_row7_col16\" class=\"data row7 col16\" >14</td>\n",
              "      <td id=\"T_0f282_row7_col17\" class=\"data row7 col17\" >0</td>\n",
              "    </tr>\n",
              "    <tr>\n",
              "      <th id=\"T_0f282_level0_row8\" class=\"row_heading level0 row8\" >8</th>\n",
              "      <td id=\"T_0f282_row8_col0\" class=\"data row8 col0\" >0</td>\n",
              "      <td id=\"T_0f282_row8_col1\" class=\"data row8 col1\" >0</td>\n",
              "      <td id=\"T_0f282_row8_col2\" class=\"data row8 col2\" >0</td>\n",
              "      <td id=\"T_0f282_row8_col3\" class=\"data row8 col3\" >0</td>\n",
              "      <td id=\"T_0f282_row8_col4\" class=\"data row8 col4\" >0</td>\n",
              "      <td id=\"T_0f282_row8_col5\" class=\"data row8 col5\" >0</td>\n",
              "      <td id=\"T_0f282_row8_col6\" class=\"data row8 col6\" >0</td>\n",
              "      <td id=\"T_0f282_row8_col7\" class=\"data row8 col7\" >0</td>\n",
              "      <td id=\"T_0f282_row8_col8\" class=\"data row8 col8\" >0</td>\n",
              "      <td id=\"T_0f282_row8_col9\" class=\"data row8 col9\" >0</td>\n",
              "      <td id=\"T_0f282_row8_col10\" class=\"data row8 col10\" >0</td>\n",
              "      <td id=\"T_0f282_row8_col11\" class=\"data row8 col11\" >132</td>\n",
              "      <td id=\"T_0f282_row8_col12\" class=\"data row8 col12\" >252</td>\n",
              "      <td id=\"T_0f282_row8_col13\" class=\"data row8 col13\" >252</td>\n",
              "      <td id=\"T_0f282_row8_col14\" class=\"data row8 col14\" >252</td>\n",
              "      <td id=\"T_0f282_row8_col15\" class=\"data row8 col15\" >151</td>\n",
              "      <td id=\"T_0f282_row8_col16\" class=\"data row8 col16\" >0</td>\n",
              "      <td id=\"T_0f282_row8_col17\" class=\"data row8 col17\" >0</td>\n",
              "    </tr>\n",
              "    <tr>\n",
              "      <th id=\"T_0f282_level0_row9\" class=\"row_heading level0 row9\" >9</th>\n",
              "      <td id=\"T_0f282_row9_col0\" class=\"data row9 col0\" >0</td>\n",
              "      <td id=\"T_0f282_row9_col1\" class=\"data row9 col1\" >0</td>\n",
              "      <td id=\"T_0f282_row9_col2\" class=\"data row9 col2\" >0</td>\n",
              "      <td id=\"T_0f282_row9_col3\" class=\"data row9 col3\" >0</td>\n",
              "      <td id=\"T_0f282_row9_col4\" class=\"data row9 col4\" >0</td>\n",
              "      <td id=\"T_0f282_row9_col5\" class=\"data row9 col5\" >0</td>\n",
              "      <td id=\"T_0f282_row9_col6\" class=\"data row9 col6\" >0</td>\n",
              "      <td id=\"T_0f282_row9_col7\" class=\"data row9 col7\" >0</td>\n",
              "      <td id=\"T_0f282_row9_col8\" class=\"data row9 col8\" >0</td>\n",
              "      <td id=\"T_0f282_row9_col9\" class=\"data row9 col9\" >0</td>\n",
              "      <td id=\"T_0f282_row9_col10\" class=\"data row9 col10\" >0</td>\n",
              "      <td id=\"T_0f282_row9_col11\" class=\"data row9 col11\" >237</td>\n",
              "      <td id=\"T_0f282_row9_col12\" class=\"data row9 col12\" >252</td>\n",
              "      <td id=\"T_0f282_row9_col13\" class=\"data row9 col13\" >252</td>\n",
              "      <td id=\"T_0f282_row9_col14\" class=\"data row9 col14\" >164</td>\n",
              "      <td id=\"T_0f282_row9_col15\" class=\"data row9 col15\" >10</td>\n",
              "      <td id=\"T_0f282_row9_col16\" class=\"data row9 col16\" >0</td>\n",
              "      <td id=\"T_0f282_row9_col17\" class=\"data row9 col17\" >0</td>\n",
              "    </tr>\n",
              "    <tr>\n",
              "      <th id=\"T_0f282_level0_row10\" class=\"row_heading level0 row10\" >10</th>\n",
              "      <td id=\"T_0f282_row10_col0\" class=\"data row10 col0\" >0</td>\n",
              "      <td id=\"T_0f282_row10_col1\" class=\"data row10 col1\" >0</td>\n",
              "      <td id=\"T_0f282_row10_col2\" class=\"data row10 col2\" >0</td>\n",
              "      <td id=\"T_0f282_row10_col3\" class=\"data row10 col3\" >0</td>\n",
              "      <td id=\"T_0f282_row10_col4\" class=\"data row10 col4\" >0</td>\n",
              "      <td id=\"T_0f282_row10_col5\" class=\"data row10 col5\" >0</td>\n",
              "      <td id=\"T_0f282_row10_col6\" class=\"data row10 col6\" >0</td>\n",
              "      <td id=\"T_0f282_row10_col7\" class=\"data row10 col7\" >0</td>\n",
              "      <td id=\"T_0f282_row10_col8\" class=\"data row10 col8\" >0</td>\n",
              "      <td id=\"T_0f282_row10_col9\" class=\"data row10 col9\" >0</td>\n",
              "      <td id=\"T_0f282_row10_col10\" class=\"data row10 col10\" >110</td>\n",
              "      <td id=\"T_0f282_row10_col11\" class=\"data row10 col11\" >253</td>\n",
              "      <td id=\"T_0f282_row10_col12\" class=\"data row10 col12\" >252</td>\n",
              "      <td id=\"T_0f282_row10_col13\" class=\"data row10 col13\" >252</td>\n",
              "      <td id=\"T_0f282_row10_col14\" class=\"data row10 col14\" >84</td>\n",
              "      <td id=\"T_0f282_row10_col15\" class=\"data row10 col15\" >0</td>\n",
              "      <td id=\"T_0f282_row10_col16\" class=\"data row10 col16\" >0</td>\n",
              "      <td id=\"T_0f282_row10_col17\" class=\"data row10 col17\" >0</td>\n",
              "    </tr>\n",
              "  </tbody>\n",
              "</table>\n"
            ]
          },
          "metadata": {},
          "execution_count": 13
        }
      ]
    },
    {
      "cell_type": "markdown",
      "metadata": {
        "id": "4PBjAr_okVHm"
      },
      "source": [
        "We will start by making a simple baseline predictive model (pixel similarity):"
      ]
    },
    {
      "cell_type": "code",
      "metadata": {
        "id": "yUNLotm1hlGp"
      },
      "source": [
        "three_tensors = [tensor(Image.open(f)) for f in threes]\n",
        "seven_tensors = [tensor(Image.open(f)) for f in sevens]\n"
      ],
      "execution_count": 14,
      "outputs": []
    },
    {
      "cell_type": "code",
      "metadata": {
        "id": "RPNfCGqn6vGb",
        "colab": {
          "base_uri": "https://localhost:8080/",
          "height": 102
        },
        "outputId": "15e7f1b2-83a4-46cd-d38c-6824c3574ecb"
      },
      "source": [
        "len(seven_tensors)\n",
        "seven_tensors[1].shape\n",
        "show_image(seven_tensors[1])"
      ],
      "execution_count": 15,
      "outputs": [
        {
          "output_type": "execute_result",
          "data": {
            "text/plain": [
              "<matplotlib.axes._subplots.AxesSubplot at 0x7fd14d7e6c70>"
            ]
          },
          "metadata": {},
          "execution_count": 15
        },
        {
          "output_type": "display_data",
          "data": {
            "text/plain": [
              "<Figure size 72x72 with 1 Axes>"
            ],
            "image/png": "[encoded data removed]"
          },
          "metadata": {
            "needs_background": "light"
          }
        }
      ]
    },
    {
      "cell_type": "markdown",
      "metadata": {
        "id": "bH3ZvaAslLvA"
      },
      "source": [
        "Let's stack our images into a two tensors and normalize them:"
      ]
    },
    {
      "cell_type": "code",
      "metadata": {
        "id": "7TkNO-TGlK5K"
      },
      "source": [
        "stacked_threes = torch.stack(three_tensors).float() / 255\n",
        "stacked_sevens = torch.stack(seven_tensors).float() / 255\n",
        "\n"
      ],
      "execution_count": 16,
      "outputs": []
    },
    {
      "cell_type": "code",
      "metadata": {
        "id": "SjAJHKicTOhR",
        "colab": {
          "base_uri": "https://localhost:8080/"
        },
        "outputId": "23d74bfc-86fe-49e4-d629-1e28d7862cf0"
      },
      "source": [
        "print(stacked_threes.shape)\n",
        "a_3 = stacked_threes[34]\n",
        "a_7 = stacked_sevens[54]\n",
        "a_3.shape"
      ],
      "execution_count": 17,
      "outputs": [
        {
          "output_type": "stream",
          "name": "stdout",
          "text": [
            "torch.Size([6131, 28, 28])\n"
          ]
        },
        {
          "output_type": "execute_result",
          "data": {
            "text/plain": [
              "torch.Size([28, 28])"
            ]
          },
          "metadata": {},
          "execution_count": 17
        }
      ]
    },
    {
      "cell_type": "markdown",
      "metadata": {
        "id": "aIXHLMfrl90p"
      },
      "source": [
        "For this simple model, we will compare new images against the means of 3 and 7 tensors:\n"
      ]
    },
    {
      "cell_type": "code",
      "metadata": {
        "colab": {
          "base_uri": "https://localhost:8080/",
          "height": 153
        },
        "id": "g7d5SDHwk13P",
        "outputId": "e5d6a703-653c-41cd-a781-6f850e5013c2"
      },
      "source": [
        "mean3 = stacked_threes.mean(0)\n",
        "mean7 = stacked_sevens.mean(0)\n",
        "\n",
        "show_image(mean3), show_image(mean7);"
      ],
      "execution_count": 18,
      "outputs": [
        {
          "output_type": "display_data",
          "data": {
            "text/plain": [
              "<Figure size 72x72 with 1 Axes>"
            ],
            "image/png": "[encoded data removed]"
          },
          "metadata": {
            "needs_background": "light"
          }
        },
        {
          "output_type": "display_data",
          "data": {
            "text/plain": [
              "<Figure size 72x72 with 1 Axes>"
            ],
            "image/png": "[encoded data removed]"
          },
          "metadata": {
            "needs_background": "light"
          }
        }
      ]
    },
    {
      "cell_type": "code",
      "metadata": {
        "id": "ssyxCFxqRjOI",
        "colab": {
          "base_uri": "https://localhost:8080/"
        },
        "outputId": "97636a07-27ae-4991-a826-a099dee4ef70"
      },
      "source": [
        " def img_distance(a, b):\n",
        "     return (a - b).abs().mean()\n",
        "\n",
        "print(img_distance(a_7, mean7))\n",
        "print(img_distance(a_7, mean3))"
      ],
      "execution_count": 19,
      "outputs": [
        {
          "output_type": "stream",
          "name": "stdout",
          "text": [
            "tensor(0.1084)\n",
            "tensor(0.1410)\n"
          ]
        }
      ]
    },
    {
      "cell_type": "code",
      "metadata": {
        "id": "eSnQQt5WchMQ",
        "colab": {
          "base_uri": "https://localhost:8080/"
        },
        "outputId": "c851bad2-e650-4a57-8b68-0135fbf106ef"
      },
      "source": [
        "(path / 'valid/7').ls()"
      ],
      "execution_count": 20,
      "outputs": [
        {
          "output_type": "execute_result",
          "data": {
            "text/plain": [
              "(#1028) [Path('valid/7/7966.png'),Path('valid/7/2243.png'),Path('valid/7/9640.png'),Path('valid/7/1012.png'),Path('valid/7/1366.png'),Path('valid/7/4539.png'),Path('valid/7/9765.png'),Path('valid/7/243.png'),Path('valid/7/6050.png'),Path('valid/7/8837.png')...]"
            ]
          },
          "metadata": {},
          "execution_count": 20
        }
      ]
    },
    {
      "cell_type": "markdown",
      "metadata": {
        "id": "3tHlOMWwletX"
      },
      "source": [
        "Let's create a validation set and a simple MAE fucntion:\n"
      ]
    },
    {
      "cell_type": "code",
      "metadata": {
        "id": "xfskJkDomhWG",
        "colab": {
          "base_uri": "https://localhost:8080/"
        },
        "outputId": "83be39ea-d67a-4dab-ea95-3430da481312"
      },
      "source": [
        "# Stack tensors:\n",
        "valid_3_tensors = torch.stack([tensor(Image.open(f)) for f in (path/'valid/3').ls()])\n",
        "valid_7_tensors = torch.stack([tensor(Image.open(f)) for f in (path/'valid/7').ls()])\n",
        "\n",
        "# Normalize tensors:\n",
        "valid_3_tensors = valid_3_tensors.float()/255\n",
        "valid_7_tensors = valid_7_tensors.float()/255\n",
        "\n",
        "print(valid_3_tensors.shape)"
      ],
      "execution_count": 21,
      "outputs": [
        {
          "output_type": "stream",
          "name": "stdout",
          "text": [
            "torch.Size([1010, 28, 28])\n"
          ]
        }
      ]
    },
    {
      "cell_type": "code",
      "metadata": {
        "id": "HPEX4YbiSZGE"
      },
      "source": [
        "def img_distance(input, mean_tensor): \n",
        "    return (input-mean_tensor).abs().mean((-1,-2))\n",
        "\n",
        "def is_3(x): \n",
        "    return (img_distance(x, mean3) < img_distance(x, mean7)).float()\n"
      ],
      "execution_count": 24,
      "outputs": []
    },
    {
      "cell_type": "code",
      "metadata": {
        "id": "HNLMPC1JIf7W",
        "colab": {
          "base_uri": "https://localhost:8080/"
        },
        "outputId": "1a99f352-c9ee-4963-c0f7-4a22963eae73"
      },
      "source": [
        "is_3(valid_3_tensors).shape"
      ],
      "execution_count": 25,
      "outputs": [
        {
          "output_type": "execute_result",
          "data": {
            "text/plain": [
              "torch.Size([1010])"
            ]
          },
          "metadata": {},
          "execution_count": 25
        }
      ]
    },
    {
      "cell_type": "code",
      "metadata": {
        "colab": {
          "base_uri": "https://localhost:8080/"
        },
        "id": "J7Ze_v50nCjx",
        "outputId": "65913eef-71c2-40af-942b-6a132bce1e72"
      },
      "source": [
        "accuracy_3s = is_3(valid_3_tensors).mean()\n",
        "accuracy_7s = (1 - is_3(valid_7_tensors)).mean()\n",
        "\n",
        "print(accuracy_3s)\n"
      ],
      "execution_count": 26,
      "outputs": [
        {
          "output_type": "stream",
          "name": "stdout",
          "text": [
            "tensor(0.9168)\n"
          ]
        }
      ]
    },
    {
      "cell_type": "code",
      "source": [
        "# stacked_threes\n",
        "# stacked_sevens\n",
        "# valid_3_tensors\n",
        "# valid_7_tensors"
      ],
      "metadata": {
        "id": "wGbHK7DZpR35"
      },
      "execution_count": 27,
      "outputs": []
    },
    {
      "cell_type": "code",
      "source": [
        "len(stacked_threes)"
      ],
      "metadata": {
        "colab": {
          "base_uri": "https://localhost:8080/"
        },
        "id": "8RCXmjRWpR-b",
        "outputId": "154782ca-0d6a-4b4d-d089-deb623bd3c01"
      },
      "execution_count": 28,
      "outputs": [
        {
          "output_type": "execute_result",
          "data": {
            "text/plain": [
              "6131"
            ]
          },
          "metadata": {},
          "execution_count": 28
        }
      ]
    },
    {
      "cell_type": "code",
      "source": [
        "stacked_threes[62].shape"
      ],
      "metadata": {
        "colab": {
          "base_uri": "https://localhost:8080/"
        },
        "id": "lSWoBscRpSBI",
        "outputId": "62bc8cef-2ed5-4063-bcfd-b148b0459134"
      },
      "execution_count": 30,
      "outputs": [
        {
          "output_type": "execute_result",
          "data": {
            "text/plain": [
              "torch.Size([28, 28])"
            ]
          },
          "metadata": {},
          "execution_count": 30
        }
      ]
    },
    {
      "cell_type": "code",
      "source": [
        "smaple_tensor = stacked_threes[62]\n",
        "smaple_tensor_reshape = smaple_tensor.view(-1, 784)"
      ],
      "metadata": {
        "id": "SkBH4xFspSEf"
      },
      "execution_count": 33,
      "outputs": []
    },
    {
      "cell_type": "code",
      "source": [
        "smaple_tensor_reshape.shape"
      ],
      "metadata": {
        "colab": {
          "base_uri": "https://localhost:8080/"
        },
        "id": "rLZpOyP2rXdC",
        "outputId": "65d2648e-570e-4574-9e80-c344bdb00f60"
      },
      "execution_count": 34,
      "outputs": [
        {
          "output_type": "execute_result",
          "data": {
            "text/plain": [
              "torch.Size([1, 784])"
            ]
          },
          "metadata": {},
          "execution_count": 34
        }
      ]
    },
    {
      "cell_type": "code",
      "source": [
        "train_x = torch.cat([stacked_threes, stacked_sevens])"
      ],
      "metadata": {
        "id": "tZ_2Bee4rafW"
      },
      "execution_count": 35,
      "outputs": []
    },
    {
      "cell_type": "code",
      "source": [
        "train_x.shape"
      ],
      "metadata": {
        "colab": {
          "base_uri": "https://localhost:8080/"
        },
        "id": "iRQox-s6sGJG",
        "outputId": "253cc2c1-97c7-45b0-ecca-c35ae0553ceb"
      },
      "execution_count": 36,
      "outputs": [
        {
          "output_type": "execute_result",
          "data": {
            "text/plain": [
              "torch.Size([12396, 28, 28])"
            ]
          },
          "metadata": {},
          "execution_count": 36
        }
      ]
    },
    {
      "cell_type": "code",
      "source": [
        "train_x = train_x.view(-1,784)\n",
        "train_x"
      ],
      "metadata": {
        "colab": {
          "base_uri": "https://localhost:8080/"
        },
        "id": "EK7jw_ABsH1u",
        "outputId": "06d1da7c-56aa-40be-b957-ca1d25921c8e"
      },
      "execution_count": 39,
      "outputs": [
        {
          "output_type": "execute_result",
          "data": {
            "text/plain": [
              "tensor([[0., 0., 0.,  ..., 0., 0., 0.],\n",
              "        [0., 0., 0.,  ..., 0., 0., 0.],\n",
              "        [0., 0., 0.,  ..., 0., 0., 0.],\n",
              "        ...,\n",
              "        [0., 0., 0.,  ..., 0., 0., 0.],\n",
              "        [0., 0., 0.,  ..., 0., 0., 0.],\n",
              "        [0., 0., 0.,  ..., 0., 0., 0.]])"
            ]
          },
          "metadata": {},
          "execution_count": 39
        }
      ]
    },
    {
      "cell_type": "code",
      "source": [
        "train_x.shape"
      ],
      "metadata": {
        "colab": {
          "base_uri": "https://localhost:8080/"
        },
        "id": "fk0-k3yqtt9_",
        "outputId": "e9bbc0b2-b78d-4906-da98-5a8160dde319"
      },
      "execution_count": 40,
      "outputs": [
        {
          "output_type": "execute_result",
          "data": {
            "text/plain": [
              "torch.Size([12396, 784])"
            ]
          },
          "metadata": {},
          "execution_count": 40
        }
      ]
    },
    {
      "cell_type": "code",
      "source": [
        "# train_x = torch.cat([stacked_threes, stacked_sevens])\n",
        "\n",
        "train_y = tensor([1] * len(stacked_threes) + [0] * len(stacked_sevens))"
      ],
      "metadata": {
        "id": "cKwt4-l9v0Iy"
      },
      "execution_count": 55,
      "outputs": []
    },
    {
      "cell_type": "code",
      "source": [
        "train_y.shape"
      ],
      "metadata": {
        "colab": {
          "base_uri": "https://localhost:8080/"
        },
        "id": "tIFmZq5OwVSW",
        "outputId": "764ee2c2-516d-4cca-8c40-673fe23528f6"
      },
      "execution_count": 56,
      "outputs": [
        {
          "output_type": "execute_result",
          "data": {
            "text/plain": [
              "torch.Size([12396])"
            ]
          },
          "metadata": {},
          "execution_count": 56
        }
      ]
    },
    {
      "cell_type": "code",
      "source": [
        "train_y = train_y.unsqueeze(-1)"
      ],
      "metadata": {
        "id": "lqOCeJNrwvz5"
      },
      "execution_count": 57,
      "outputs": []
    },
    {
      "cell_type": "code",
      "source": [
        "train_y.shape"
      ],
      "metadata": {
        "colab": {
          "base_uri": "https://localhost:8080/"
        },
        "id": "NO4JLftoxImZ",
        "outputId": "1ee29783-b881-4b04-c6a2-3a4c1164e3bf"
      },
      "execution_count": 58,
      "outputs": [
        {
          "output_type": "execute_result",
          "data": {
            "text/plain": [
              "torch.Size([12396, 1])"
            ]
          },
          "metadata": {},
          "execution_count": 58
        }
      ]
    },
    {
      "cell_type": "code",
      "source": [
        "valid_x = torch.cat([valid_3_tensors, valid_7_tensors]).view(-1, 784)\n",
        "valid_y = tensor([1]*len(valid_3_tensors) + [0]*len(valid_7_tensors)).unsqueeze(-1)\n",
        "\n",
        "print(valid_x.shape, valid_y.shape)"
      ],
      "metadata": {
        "colab": {
          "base_uri": "https://localhost:8080/"
        },
        "id": "8NL7-pK2xIpC",
        "outputId": "58d21d6b-35a1-49cf-b888-9c7c31656007"
      },
      "execution_count": 61,
      "outputs": [
        {
          "output_type": "stream",
          "name": "stdout",
          "text": [
            "torch.Size([2038, 784]) torch.Size([2038, 1])\n"
          ]
        }
      ]
    },
    {
      "cell_type": "code",
      "source": [
        "# create dataset\n",
        "\n",
        "dset = list(zip(train_x, train_y))\n",
        "\n",
        "valid_dset = list(zip(valid_x, valid_y))"
      ],
      "metadata": {
        "id": "Kshzl_b4xIrb"
      },
      "execution_count": 62,
      "outputs": []
    },
    {
      "cell_type": "code",
      "source": [
        "x, y = dset[93]\n",
        "\n",
        "print(x.shape)\n",
        "print(y)"
      ],
      "metadata": {
        "colab": {
          "base_uri": "https://localhost:8080/"
        },
        "id": "3d-nrRn-xItz",
        "outputId": "2eb9d4e2-2ac9-4ca8-fd6b-29d37f15ac15"
      },
      "execution_count": 63,
      "outputs": [
        {
          "output_type": "stream",
          "name": "stdout",
          "text": [
            "torch.Size([784])\n",
            "tensor([1])\n"
          ]
        }
      ]
    },
    {
      "cell_type": "code",
      "source": [
        "dl = DataLoader(dset, batch_size= 256)\n",
        "\n",
        "valid_dl = DataLoader(valid_dset, batch_size=256)"
      ],
      "metadata": {
        "id": "-u5dfbA0xIwZ"
      },
      "execution_count": 64,
      "outputs": []
    },
    {
      "cell_type": "code",
      "source": [
        "def init_params(size, std =1):\n",
        "  return (torch.randn(size)*std).requires_grad_()\n",
        "\n",
        "\n",
        "weights = init_params((784,1))\n",
        "bias = init_params(1)"
      ],
      "metadata": {
        "id": "ua1aFDhjxIyy"
      },
      "execution_count": 65,
      "outputs": []
    },
    {
      "cell_type": "code",
      "source": [
        "# batches \n",
        "len(list(dl))"
      ],
      "metadata": {
        "colab": {
          "base_uri": "https://localhost:8080/"
        },
        "id": "S1P4SIwsxI1H",
        "outputId": "7ed8c7a8-4e0e-404c-a175-ae793d4e744c"
      },
      "execution_count": 69,
      "outputs": [
        {
          "output_type": "execute_result",
          "data": {
            "text/plain": [
              "49"
            ]
          },
          "metadata": {},
          "execution_count": 69
        }
      ]
    },
    {
      "cell_type": "code",
      "source": [
        "print(list(dl)[19][0].shape)\n",
        "print(list(dl)[19][1].shape)"
      ],
      "metadata": {
        "colab": {
          "base_uri": "https://localhost:8080/"
        },
        "id": "_pCrEb1XxI3V",
        "outputId": "e3b22613-3a8f-4c34-ff24-ac35e1fc225e"
      },
      "execution_count": 75,
      "outputs": [
        {
          "output_type": "stream",
          "name": "stdout",
          "text": [
            "torch.Size([256, 784])\n",
            "torch.Size([256, 1])\n"
          ]
        }
      ]
    },
    {
      "cell_type": "code",
      "source": [
        "sample_input = list(dl)[19][0][100]\n",
        "sample_target = list(dl)[19][1][100]"
      ],
      "metadata": {
        "id": "o8FGGi0J3-2e"
      },
      "execution_count": 76,
      "outputs": []
    },
    {
      "cell_type": "code",
      "source": [
        "sample_input.shape"
      ],
      "metadata": {
        "colab": {
          "base_uri": "https://localhost:8080/"
        },
        "id": "hpYE6Uz06By_",
        "outputId": "b4031f5d-b5d6-41f6-a836-3c477009b541"
      },
      "execution_count": 78,
      "outputs": [
        {
          "output_type": "execute_result",
          "data": {
            "text/plain": [
              "torch.Size([784])"
            ]
          },
          "metadata": {},
          "execution_count": 78
        }
      ]
    },
    {
      "cell_type": "code",
      "source": [
        "pred = sample_input @ weights + bias\n",
        "\n",
        "sample_batch_pred = list(dl)[19][0] @ weights + bias"
      ],
      "metadata": {
        "id": "HglmqC6a6B1n"
      },
      "execution_count": 79,
      "outputs": []
    },
    {
      "cell_type": "code",
      "source": [
        "sample_batch_pred.shape"
      ],
      "metadata": {
        "colab": {
          "base_uri": "https://localhost:8080/"
        },
        "id": "t-0yxq9l6B4C",
        "outputId": "e41d18b9-7842-4d76-82bd-ce22531ea176"
      },
      "execution_count": 80,
      "outputs": [
        {
          "output_type": "execute_result",
          "data": {
            "text/plain": [
              "torch.Size([256, 1])"
            ]
          },
          "metadata": {},
          "execution_count": 80
        }
      ]
    },
    {
      "cell_type": "code",
      "source": [
        "def linear1(x):\n",
        "  return(x @ weights + bias)\n"
      ],
      "metadata": {
        "id": "52jtqNyU6B6k"
      },
      "execution_count": 81,
      "outputs": []
    },
    {
      "cell_type": "code",
      "source": [
        "preds = linear1(list(dl)[23][0])\n",
        "\n",
        "preds.shape"
      ],
      "metadata": {
        "colab": {
          "base_uri": "https://localhost:8080/"
        },
        "id": "xmrv86Vd6B9K",
        "outputId": "dc8f534f-cd77-4c12-b6f2-b26bd9ea3fd0"
      },
      "execution_count": 82,
      "outputs": [
        {
          "output_type": "execute_result",
          "data": {
            "text/plain": [
              "torch.Size([256, 1])"
            ]
          },
          "metadata": {},
          "execution_count": 82
        }
      ]
    },
    {
      "cell_type": "code",
      "source": [
        "def mnist_loss(predictions, targets):\n",
        "  predictions = predictions.sigmoid()\n",
        "  predictions = (predictions > 0.5).float()\n",
        "\n",
        "  return torch.where(targets == 1, 1-predictions, predictions).mean()"
      ],
      "metadata": {
        "id": "_AgIEYWi6CAg"
      },
      "execution_count": 83,
      "outputs": []
    },
    {
      "cell_type": "code",
      "source": [
        "sample_input_batch = list(dl)[19][0]\n",
        "sample_target_batch = list(dl)[19][1]\n",
        "\n",
        "sample_preds_batch = linear1(sample_input_batch)\n",
        "\n",
        "sample_error = mnist_loss(sample_preds_batch, sample_target_batch)\n",
        "print(sample_error)"
      ],
      "metadata": {
        "colab": {
          "base_uri": "https://localhost:8080/"
        },
        "id": "FYDnmFEk9U2_",
        "outputId": "06a8948b-42f6-4adc-9c38-8d14cb3bb279"
      },
      "execution_count": 85,
      "outputs": [
        {
          "output_type": "stream",
          "name": "stdout",
          "text": [
            "tensor(0.8203)\n"
          ]
        }
      ]
    },
    {
      "cell_type": "code",
      "source": [],
      "metadata": {
        "id": "H9XhFedG9U5n"
      },
      "execution_count": null,
      "outputs": []
    },
    {
      "cell_type": "code",
      "source": [],
      "metadata": {
        "id": "ukPSzJ1y9U8D"
      },
      "execution_count": null,
      "outputs": []
    },
    {
      "cell_type": "code",
      "source": [],
      "metadata": {
        "id": "sXjvsKQ09U-1"
      },
      "execution_count": null,
      "outputs": []
    },
    {
      "cell_type": "code",
      "source": [],
      "metadata": {
        "id": "7UTDYekk9VCO"
      },
      "execution_count": null,
      "outputs": []
    },
    {
      "cell_type": "code",
      "source": [],
      "metadata": {
        "id": "J_LS1UPl9VMC"
      },
      "execution_count": null,
      "outputs": []
    }
  ]
}