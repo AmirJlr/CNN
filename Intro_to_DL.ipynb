{
  "nbformat": 4,
  "nbformat_minor": 0,
  "metadata": {
    "colab": {
      "provenance": [],
      "include_colab_link": true
    },
    "kernelspec": {
      "name": "python3",
      "display_name": "Python 3"
    },
    "accelerator": "GPU"
  },
  "cells": [
    {
      "cell_type": "markdown",
      "metadata": {
        "id": "view-in-github",
        "colab_type": "text"
      },
      "source": [
        "<a href=\"https://colab.research.google.com/github/AmirJlr/Deep-Learning/blob/master/Intro_to_DL.ipynb\" target=\"_parent\"><img src=\"https://colab.research.google.com/assets/colab-badge.svg\" alt=\"Open In Colab\"/></a>"
      ]
    },
    {
      "cell_type": "code",
      "metadata": {
        "id": "ysdOFeEEV4CK",
        "colab": {
          "base_uri": "https://localhost:8080/",
          "height": 35
        },
        "outputId": "b659705d-0867-4c3a-b1e3-6f007543d83f"
      },
      "source": [
        "\"\"\"\n",
        "\n",
        "Try to build a NN model to classify 3, 7\n",
        "\n",
        "\n",
        "\"\"\""
      ],
      "execution_count": 1,
      "outputs": [
        {
          "output_type": "execute_result",
          "data": {
            "text/plain": [
              "'\\n\\nTry to build a NN model to classify 3, 7\\n\\n\\n'"
            ],
            "application/vnd.google.colaboratory.intrinsic+json": {
              "type": "string"
            }
          },
          "metadata": {},
          "execution_count": 1
        }
      ]
    },
    {
      "cell_type": "code",
      "metadata": {
        "id": "G93mj5KKQEhH"
      },
      "source": [
        "!pip install -Uqq fastbook\n",
        "import fastbook\n",
        "# fastbook.setup_book() # mount GDrive \n",
        "from fastbook import *\n",
        "from matplotlib import pyplot as plt"
      ],
      "execution_count": 2,
      "outputs": []
    },
    {
      "cell_type": "markdown",
      "metadata": {
        "id": "hewnfiYxdi_T"
      },
      "source": [
        "We will work on a small subset of MNIST dataset which contains only two digits (3 and 7):"
      ]
    },
    {
      "cell_type": "code",
      "metadata": {
        "id": "N1hXZ-94i8FN",
        "colab": {
          "base_uri": "https://localhost:8080/"
        },
        "outputId": "35b51355-c01b-48a4-961f-171185933d14"
      },
      "source": [
        "path = untar_data(URLs.MNIST_SAMPLE)\n",
        "path"
      ],
      "execution_count": 3,
      "outputs": [
        {
          "output_type": "execute_result",
          "data": {
            "text/plain": [
              "Path('/root/.fastai/data/mnist_sample')"
            ]
          },
          "metadata": {},
          "execution_count": 3
        }
      ]
    },
    {
      "cell_type": "code",
      "metadata": {
        "colab": {
          "base_uri": "https://localhost:8080/"
        },
        "id": "6PrENLtKdJTA",
        "outputId": "16dadb15-f494-499c-c7de-04e2039a85ca"
      },
      "source": [
        "path.ls()"
      ],
      "execution_count": 4,
      "outputs": [
        {
          "output_type": "execute_result",
          "data": {
            "text/plain": [
              "(#3) [Path('/root/.fastai/data/mnist_sample/labels.csv'),Path('/root/.fastai/data/mnist_sample/train'),Path('/root/.fastai/data/mnist_sample/valid')]"
            ]
          },
          "metadata": {},
          "execution_count": 4
        }
      ]
    },
    {
      "cell_type": "markdown",
      "metadata": {
        "id": "jWeqc-ZMtF4r"
      },
      "source": [
        "We can set the BASE_PATH to path so that we start from there and not the /root/.fastai..."
      ]
    },
    {
      "cell_type": "code",
      "metadata": {
        "id": "bBJEbTpBjsvK"
      },
      "source": [
        "Path.BASE_PATH = path"
      ],
      "execution_count": 5,
      "outputs": []
    },
    {
      "cell_type": "code",
      "metadata": {
        "colab": {
          "base_uri": "https://localhost:8080/"
        },
        "id": "CSMKqMsHjMsF",
        "outputId": "6b400109-6390-41f2-9cb0-fb4a9e2aa643"
      },
      "source": [
        "(path).ls()"
      ],
      "execution_count": 6,
      "outputs": [
        {
          "output_type": "execute_result",
          "data": {
            "text/plain": [
              "(#3) [Path('labels.csv'),Path('train'),Path('valid')]"
            ]
          },
          "metadata": {},
          "execution_count": 6
        }
      ]
    },
    {
      "cell_type": "code",
      "metadata": {
        "id": "-rn42EcVfqcp",
        "colab": {
          "base_uri": "https://localhost:8080/"
        },
        "outputId": "0849816c-5599-411a-dc43-fc90160032e5"
      },
      "source": [
        "(path /\"train\").ls()"
      ],
      "execution_count": 7,
      "outputs": [
        {
          "output_type": "execute_result",
          "data": {
            "text/plain": [
              "(#2) [Path('train/3'),Path('train/7')]"
            ]
          },
          "metadata": {},
          "execution_count": 7
        }
      ]
    },
    {
      "cell_type": "code",
      "metadata": {
        "id": "Wr1tHhXdjMgT"
      },
      "source": [
        "threes = (path/'train/3').ls().sorted()\n",
        "sevens = (path/'train/7').ls().sorted()"
      ],
      "execution_count": 8,
      "outputs": []
    },
    {
      "cell_type": "code",
      "metadata": {
        "id": "3STeygGchLW-",
        "colab": {
          "base_uri": "https://localhost:8080/",
          "height": 45
        },
        "outputId": "54faf360-3ec0-4284-99eb-37fd9e1b8a73"
      },
      "source": [
        "sevens\n",
        "im7_path = sevens[54]\n",
        "im7 = Image.open(im7_path)\n",
        "im7"
      ],
      "execution_count": 9,
      "outputs": [
        {
          "output_type": "execute_result",
          "data": {
            "text/plain": [
              "<PIL.PngImagePlugin.PngImageFile image mode=L size=28x28>"
            ],
            "image/png": "[encoded data removed]"
          },
          "metadata": {},
          "execution_count": 9
        }
      ]
    },
    {
      "cell_type": "code",
      "metadata": {
        "id": "ef8D6phBjLoI",
        "colab": {
          "base_uri": "https://localhost:8080/",
          "height": 273
        },
        "outputId": "230ac49f-10fb-4d4c-ce32-075c6e3ed5fc"
      },
      "source": [
        "# --- We can convert PILImageFile to a numpy array or a tensor (on GPU):\n",
        "# im7_array = array(im7)\n",
        "# plt.imshow(im7_array)\n",
        "im7_tensor = tensor(im7)\n",
        "plt.imshow(im7_tensor[4:15, 4:22])"
      ],
      "execution_count": 10,
      "outputs": [
        {
          "output_type": "execute_result",
          "data": {
            "text/plain": [
              "<matplotlib.image.AxesImage at 0x7f65c82d05b0>"
            ]
          },
          "metadata": {},
          "execution_count": 10
        },
        {
          "output_type": "display_data",
          "data": {
            "text/plain": [
              "<Figure size 432x288 with 1 Axes>"
            ],
            "image/png": "[encoded data removed]"
          },
          "metadata": {
            "needs_background": "light"
          }
        }
      ]
    },
    {
      "cell_type": "code",
      "metadata": {
        "colab": {
          "base_uri": "https://localhost:8080/",
          "height": 394
        },
        "id": "yIL5wE1yjIc-",
        "outputId": "1a01fb96-1bf2-49ae-8483-e8831298b175"
      },
      "source": [
        "# --- We can also use pandas DF to vizualize them in a neat way:\n",
        "df = pd.DataFrame(im7_tensor[4:15, 4:22])\n",
        "df.style.set_properties(**{'font-size': '6pt'}).background_gradient('BuPu')"
      ],
      "execution_count": 11,
      "outputs": [
        {
          "output_type": "execute_result",
          "data": {
            "text/plain": [
              "<pandas.io.formats.style.Styler at 0x7f65c82af490>"
            ],
            "text/html": [
              "<style type=\"text/css\">\n",
              "#T_50fb0_row0_col0, #T_50fb0_row0_col1, #T_50fb0_row0_col2, #T_50fb0_row0_col3, #T_50fb0_row0_col4, #T_50fb0_row0_col5, #T_50fb0_row0_col6, #T_50fb0_row0_col7, #T_50fb0_row0_col8, #T_50fb0_row0_col9, #T_50fb0_row0_col10, #T_50fb0_row0_col11, #T_50fb0_row0_col12, #T_50fb0_row0_col13, #T_50fb0_row0_col14, #T_50fb0_row0_col15, #T_50fb0_row0_col16, #T_50fb0_row0_col17, #T_50fb0_row1_col0, #T_50fb0_row1_col1, #T_50fb0_row1_col2, #T_50fb0_row1_col3, #T_50fb0_row1_col4, #T_50fb0_row1_col5, #T_50fb0_row1_col6, #T_50fb0_row1_col7, #T_50fb0_row1_col8, #T_50fb0_row1_col9, #T_50fb0_row1_col10, #T_50fb0_row1_col11, #T_50fb0_row1_col12, #T_50fb0_row1_col13, #T_50fb0_row1_col14, #T_50fb0_row1_col15, #T_50fb0_row1_col16, #T_50fb0_row1_col17, #T_50fb0_row2_col0, #T_50fb0_row2_col1, #T_50fb0_row2_col2, #T_50fb0_row2_col3, #T_50fb0_row2_col4, #T_50fb0_row2_col17, #T_50fb0_row3_col0, #T_50fb0_row3_col1, #T_50fb0_row3_col2, #T_50fb0_row3_col3, #T_50fb0_row3_col17, #T_50fb0_row4_col0, #T_50fb0_row4_col1, #T_50fb0_row4_col2, #T_50fb0_row4_col3, #T_50fb0_row4_col17, #T_50fb0_row5_col0, #T_50fb0_row5_col1, #T_50fb0_row5_col2, #T_50fb0_row5_col3, #T_50fb0_row5_col4, #T_50fb0_row5_col17, #T_50fb0_row6_col0, #T_50fb0_row6_col1, #T_50fb0_row6_col2, #T_50fb0_row6_col3, #T_50fb0_row6_col4, #T_50fb0_row6_col5, #T_50fb0_row6_col6, #T_50fb0_row6_col7, #T_50fb0_row6_col8, #T_50fb0_row6_col9, #T_50fb0_row6_col10, #T_50fb0_row6_col11, #T_50fb0_row6_col17, #T_50fb0_row7_col0, #T_50fb0_row7_col1, #T_50fb0_row7_col2, #T_50fb0_row7_col3, #T_50fb0_row7_col4, #T_50fb0_row7_col5, #T_50fb0_row7_col6, #T_50fb0_row7_col7, #T_50fb0_row7_col8, #T_50fb0_row7_col9, #T_50fb0_row7_col10, #T_50fb0_row7_col17, #T_50fb0_row8_col0, #T_50fb0_row8_col1, #T_50fb0_row8_col2, #T_50fb0_row8_col3, #T_50fb0_row8_col4, #T_50fb0_row8_col5, #T_50fb0_row8_col6, #T_50fb0_row8_col7, #T_50fb0_row8_col8, #T_50fb0_row8_col9, #T_50fb0_row8_col10, #T_50fb0_row8_col16, #T_50fb0_row8_col17, #T_50fb0_row9_col0, #T_50fb0_row9_col1, #T_50fb0_row9_col2, #T_50fb0_row9_col3, #T_50fb0_row9_col4, #T_50fb0_row9_col5, #T_50fb0_row9_col6, #T_50fb0_row9_col7, #T_50fb0_row9_col8, #T_50fb0_row9_col9, #T_50fb0_row9_col10, #T_50fb0_row9_col16, #T_50fb0_row9_col17, #T_50fb0_row10_col0, #T_50fb0_row10_col1, #T_50fb0_row10_col2, #T_50fb0_row10_col3, #T_50fb0_row10_col4, #T_50fb0_row10_col5, #T_50fb0_row10_col6, #T_50fb0_row10_col7, #T_50fb0_row10_col8, #T_50fb0_row10_col9, #T_50fb0_row10_col15, #T_50fb0_row10_col16, #T_50fb0_row10_col17 {\n",
              "  font-size: 6pt;\n",
              "  background-color: #f7fcfd;\n",
              "  color: #000000;\n",
              "}\n",
              "#T_50fb0_row2_col5 {\n",
              "  font-size: 6pt;\n",
              "  background-color: #d4e3ef;\n",
              "  color: #000000;\n",
              "}\n",
              "#T_50fb0_row2_col6, #T_50fb0_row2_col7, #T_50fb0_row2_col8 {\n",
              "  font-size: 6pt;\n",
              "  background-color: #8c8dc2;\n",
              "  color: #f1f1f1;\n",
              "}\n",
              "#T_50fb0_row2_col9 {\n",
              "  font-size: 6pt;\n",
              "  background-color: #8948a0;\n",
              "  color: #f1f1f1;\n",
              "}\n",
              "#T_50fb0_row2_col10, #T_50fb0_row2_col11, #T_50fb0_row2_col12, #T_50fb0_row2_col13, #T_50fb0_row2_col14, #T_50fb0_row3_col4, #T_50fb0_row3_col5, #T_50fb0_row3_col6, #T_50fb0_row3_col7, #T_50fb0_row3_col8, #T_50fb0_row3_col9, #T_50fb0_row3_col15, #T_50fb0_row3_col16, #T_50fb0_row4_col6, #T_50fb0_row4_col7, #T_50fb0_row4_col8, #T_50fb0_row4_col9, #T_50fb0_row4_col15, #T_50fb0_row4_col16, #T_50fb0_row5_col15, #T_50fb0_row5_col16, #T_50fb0_row6_col15 {\n",
              "  font-size: 6pt;\n",
              "  background-color: #4d004b;\n",
              "  color: #f1f1f1;\n",
              "}\n",
              "#T_50fb0_row2_col15 {\n",
              "  font-size: 6pt;\n",
              "  background-color: #7b0d76;\n",
              "  color: #f1f1f1;\n",
              "}\n",
              "#T_50fb0_row2_col16 {\n",
              "  font-size: 6pt;\n",
              "  background-color: #cbdceb;\n",
              "  color: #000000;\n",
              "}\n",
              "#T_50fb0_row3_col10, #T_50fb0_row3_col12, #T_50fb0_row3_col13, #T_50fb0_row3_col14, #T_50fb0_row4_col10, #T_50fb0_row4_col12, #T_50fb0_row4_col13, #T_50fb0_row4_col14, #T_50fb0_row5_col13, #T_50fb0_row5_col14, #T_50fb0_row6_col13, #T_50fb0_row6_col14, #T_50fb0_row7_col13, #T_50fb0_row7_col14, #T_50fb0_row8_col12, #T_50fb0_row8_col13, #T_50fb0_row8_col14, #T_50fb0_row9_col12, #T_50fb0_row9_col13, #T_50fb0_row10_col12, #T_50fb0_row10_col13 {\n",
              "  font-size: 6pt;\n",
              "  background-color: #4f004d;\n",
              "  color: #f1f1f1;\n",
              "}\n",
              "#T_50fb0_row3_col11, #T_50fb0_row4_col11, #T_50fb0_row10_col11 {\n",
              "  font-size: 6pt;\n",
              "  background-color: #50014e;\n",
              "  color: #f1f1f1;\n",
              "}\n",
              "#T_50fb0_row4_col4 {\n",
              "  font-size: 6pt;\n",
              "  background-color: #8a59a8;\n",
              "  color: #f1f1f1;\n",
              "}\n",
              "#T_50fb0_row4_col5 {\n",
              "  font-size: 6pt;\n",
              "  background-color: #670864;\n",
              "  color: #f1f1f1;\n",
              "}\n",
              "#T_50fb0_row5_col5 {\n",
              "  font-size: 6pt;\n",
              "  background-color: #bacfe4;\n",
              "  color: #000000;\n",
              "}\n",
              "#T_50fb0_row5_col6 {\n",
              "  font-size: 6pt;\n",
              "  background-color: #909fcb;\n",
              "  color: #f1f1f1;\n",
              "}\n",
              "#T_50fb0_row5_col7, #T_50fb0_row9_col14 {\n",
              "  font-size: 6pt;\n",
              "  background-color: #8b64ad;\n",
              "  color: #f1f1f1;\n",
              "}\n",
              "#T_50fb0_row5_col8, #T_50fb0_row5_col9 {\n",
              "  font-size: 6pt;\n",
              "  background-color: #a9c4de;\n",
              "  color: #000000;\n",
              "}\n",
              "#T_50fb0_row5_col10, #T_50fb0_row5_col11, #T_50fb0_row10_col14 {\n",
              "  font-size: 6pt;\n",
              "  background-color: #aac4de;\n",
              "  color: #000000;\n",
              "}\n",
              "#T_50fb0_row5_col12 {\n",
              "  font-size: 6pt;\n",
              "  background-color: #9bb6d7;\n",
              "  color: #000000;\n",
              "}\n",
              "#T_50fb0_row6_col12 {\n",
              "  font-size: 6pt;\n",
              "  background-color: #95a8d0;\n",
              "  color: #f1f1f1;\n",
              "}\n",
              "#T_50fb0_row6_col16 {\n",
              "  font-size: 6pt;\n",
              "  background-color: #8c8fc2;\n",
              "  color: #f1f1f1;\n",
              "}\n",
              "#T_50fb0_row7_col11 {\n",
              "  font-size: 6pt;\n",
              "  background-color: #d3e2ef;\n",
              "  color: #000000;\n",
              "}\n",
              "#T_50fb0_row7_col12 {\n",
              "  font-size: 6pt;\n",
              "  background-color: #770c73;\n",
              "  color: #f1f1f1;\n",
              "}\n",
              "#T_50fb0_row7_col15 {\n",
              "  font-size: 6pt;\n",
              "  background-color: #84258b;\n",
              "  color: #f1f1f1;\n",
              "}\n",
              "#T_50fb0_row7_col16 {\n",
              "  font-size: 6pt;\n",
              "  background-color: #e9f2f8;\n",
              "  color: #000000;\n",
              "}\n",
              "#T_50fb0_row8_col11 {\n",
              "  font-size: 6pt;\n",
              "  background-color: #8c90c3;\n",
              "  color: #f1f1f1;\n",
              "}\n",
              "#T_50fb0_row8_col15 {\n",
              "  font-size: 6pt;\n",
              "  background-color: #8c74b5;\n",
              "  color: #f1f1f1;\n",
              "}\n",
              "#T_50fb0_row9_col11 {\n",
              "  font-size: 6pt;\n",
              "  background-color: #6a0867;\n",
              "  color: #f1f1f1;\n",
              "}\n",
              "#T_50fb0_row9_col15 {\n",
              "  font-size: 6pt;\n",
              "  background-color: #f0f7fa;\n",
              "  color: #000000;\n",
              "}\n",
              "#T_50fb0_row10_col10 {\n",
              "  font-size: 6pt;\n",
              "  background-color: #95aad0;\n",
              "  color: #f1f1f1;\n",
              "}\n",
              "</style>\n",
              "<table id=\"T_50fb0_\" class=\"dataframe\">\n",
              "  <thead>\n",
              "    <tr>\n",
              "      <th class=\"blank level0\" >&nbsp;</th>\n",
              "      <th class=\"col_heading level0 col0\" >0</th>\n",
              "      <th class=\"col_heading level0 col1\" >1</th>\n",
              "      <th class=\"col_heading level0 col2\" >2</th>\n",
              "      <th class=\"col_heading level0 col3\" >3</th>\n",
              "      <th class=\"col_heading level0 col4\" >4</th>\n",
              "      <th class=\"col_heading level0 col5\" >5</th>\n",
              "      <th class=\"col_heading level0 col6\" >6</th>\n",
              "      <th class=\"col_heading level0 col7\" >7</th>\n",
              "      <th class=\"col_heading level0 col8\" >8</th>\n",
              "      <th class=\"col_heading level0 col9\" >9</th>\n",
              "      <th class=\"col_heading level0 col10\" >10</th>\n",
              "      <th class=\"col_heading level0 col11\" >11</th>\n",
              "      <th class=\"col_heading level0 col12\" >12</th>\n",
              "      <th class=\"col_heading level0 col13\" >13</th>\n",
              "      <th class=\"col_heading level0 col14\" >14</th>\n",
              "      <th class=\"col_heading level0 col15\" >15</th>\n",
              "      <th class=\"col_heading level0 col16\" >16</th>\n",
              "      <th class=\"col_heading level0 col17\" >17</th>\n",
              "    </tr>\n",
              "  </thead>\n",
              "  <tbody>\n",
              "    <tr>\n",
              "      <th id=\"T_50fb0_level0_row0\" class=\"row_heading level0 row0\" >0</th>\n",
              "      <td id=\"T_50fb0_row0_col0\" class=\"data row0 col0\" >0</td>\n",
              "      <td id=\"T_50fb0_row0_col1\" class=\"data row0 col1\" >0</td>\n",
              "      <td id=\"T_50fb0_row0_col2\" class=\"data row0 col2\" >0</td>\n",
              "      <td id=\"T_50fb0_row0_col3\" class=\"data row0 col3\" >0</td>\n",
              "      <td id=\"T_50fb0_row0_col4\" class=\"data row0 col4\" >0</td>\n",
              "      <td id=\"T_50fb0_row0_col5\" class=\"data row0 col5\" >0</td>\n",
              "      <td id=\"T_50fb0_row0_col6\" class=\"data row0 col6\" >0</td>\n",
              "      <td id=\"T_50fb0_row0_col7\" class=\"data row0 col7\" >0</td>\n",
              "      <td id=\"T_50fb0_row0_col8\" class=\"data row0 col8\" >0</td>\n",
              "      <td id=\"T_50fb0_row0_col9\" class=\"data row0 col9\" >0</td>\n",
              "      <td id=\"T_50fb0_row0_col10\" class=\"data row0 col10\" >0</td>\n",
              "      <td id=\"T_50fb0_row0_col11\" class=\"data row0 col11\" >0</td>\n",
              "      <td id=\"T_50fb0_row0_col12\" class=\"data row0 col12\" >0</td>\n",
              "      <td id=\"T_50fb0_row0_col13\" class=\"data row0 col13\" >0</td>\n",
              "      <td id=\"T_50fb0_row0_col14\" class=\"data row0 col14\" >0</td>\n",
              "      <td id=\"T_50fb0_row0_col15\" class=\"data row0 col15\" >0</td>\n",
              "      <td id=\"T_50fb0_row0_col16\" class=\"data row0 col16\" >0</td>\n",
              "      <td id=\"T_50fb0_row0_col17\" class=\"data row0 col17\" >0</td>\n",
              "    </tr>\n",
              "    <tr>\n",
              "      <th id=\"T_50fb0_level0_row1\" class=\"row_heading level0 row1\" >1</th>\n",
              "      <td id=\"T_50fb0_row1_col0\" class=\"data row1 col0\" >0</td>\n",
              "      <td id=\"T_50fb0_row1_col1\" class=\"data row1 col1\" >0</td>\n",
              "      <td id=\"T_50fb0_row1_col2\" class=\"data row1 col2\" >0</td>\n",
              "      <td id=\"T_50fb0_row1_col3\" class=\"data row1 col3\" >0</td>\n",
              "      <td id=\"T_50fb0_row1_col4\" class=\"data row1 col4\" >0</td>\n",
              "      <td id=\"T_50fb0_row1_col5\" class=\"data row1 col5\" >0</td>\n",
              "      <td id=\"T_50fb0_row1_col6\" class=\"data row1 col6\" >0</td>\n",
              "      <td id=\"T_50fb0_row1_col7\" class=\"data row1 col7\" >0</td>\n",
              "      <td id=\"T_50fb0_row1_col8\" class=\"data row1 col8\" >0</td>\n",
              "      <td id=\"T_50fb0_row1_col9\" class=\"data row1 col9\" >0</td>\n",
              "      <td id=\"T_50fb0_row1_col10\" class=\"data row1 col10\" >0</td>\n",
              "      <td id=\"T_50fb0_row1_col11\" class=\"data row1 col11\" >0</td>\n",
              "      <td id=\"T_50fb0_row1_col12\" class=\"data row1 col12\" >0</td>\n",
              "      <td id=\"T_50fb0_row1_col13\" class=\"data row1 col13\" >0</td>\n",
              "      <td id=\"T_50fb0_row1_col14\" class=\"data row1 col14\" >0</td>\n",
              "      <td id=\"T_50fb0_row1_col15\" class=\"data row1 col15\" >0</td>\n",
              "      <td id=\"T_50fb0_row1_col16\" class=\"data row1 col16\" >0</td>\n",
              "      <td id=\"T_50fb0_row1_col17\" class=\"data row1 col17\" >0</td>\n",
              "    </tr>\n",
              "    <tr>\n",
              "      <th id=\"T_50fb0_level0_row2\" class=\"row_heading level0 row2\" >2</th>\n",
              "      <td id=\"T_50fb0_row2_col0\" class=\"data row2 col0\" >0</td>\n",
              "      <td id=\"T_50fb0_row2_col1\" class=\"data row2 col1\" >0</td>\n",
              "      <td id=\"T_50fb0_row2_col2\" class=\"data row2 col2\" >0</td>\n",
              "      <td id=\"T_50fb0_row2_col3\" class=\"data row2 col3\" >0</td>\n",
              "      <td id=\"T_50fb0_row2_col4\" class=\"data row2 col4\" >0</td>\n",
              "      <td id=\"T_50fb0_row2_col5\" class=\"data row2 col5\" >38</td>\n",
              "      <td id=\"T_50fb0_row2_col6\" class=\"data row2 col6\" >132</td>\n",
              "      <td id=\"T_50fb0_row2_col7\" class=\"data row2 col7\" >132</td>\n",
              "      <td id=\"T_50fb0_row2_col8\" class=\"data row2 col8\" >132</td>\n",
              "      <td id=\"T_50fb0_row2_col9\" class=\"data row2 col9\" >184</td>\n",
              "      <td id=\"T_50fb0_row2_col10\" class=\"data row2 col10\" >253</td>\n",
              "      <td id=\"T_50fb0_row2_col11\" class=\"data row2 col11\" >255</td>\n",
              "      <td id=\"T_50fb0_row2_col12\" class=\"data row2 col12\" >253</td>\n",
              "      <td id=\"T_50fb0_row2_col13\" class=\"data row2 col13\" >253</td>\n",
              "      <td id=\"T_50fb0_row2_col14\" class=\"data row2 col14\" >253</td>\n",
              "      <td id=\"T_50fb0_row2_col15\" class=\"data row2 col15\" >224</td>\n",
              "      <td id=\"T_50fb0_row2_col16\" class=\"data row2 col16\" >37</td>\n",
              "      <td id=\"T_50fb0_row2_col17\" class=\"data row2 col17\" >0</td>\n",
              "    </tr>\n",
              "    <tr>\n",
              "      <th id=\"T_50fb0_level0_row3\" class=\"row_heading level0 row3\" >3</th>\n",
              "      <td id=\"T_50fb0_row3_col0\" class=\"data row3 col0\" >0</td>\n",
              "      <td id=\"T_50fb0_row3_col1\" class=\"data row3 col1\" >0</td>\n",
              "      <td id=\"T_50fb0_row3_col2\" class=\"data row3 col2\" >0</td>\n",
              "      <td id=\"T_50fb0_row3_col3\" class=\"data row3 col3\" >0</td>\n",
              "      <td id=\"T_50fb0_row3_col4\" class=\"data row3 col4\" >28</td>\n",
              "      <td id=\"T_50fb0_row3_col5\" class=\"data row3 col5\" >222</td>\n",
              "      <td id=\"T_50fb0_row3_col6\" class=\"data row3 col6\" >252</td>\n",
              "      <td id=\"T_50fb0_row3_col7\" class=\"data row3 col7\" >252</td>\n",
              "      <td id=\"T_50fb0_row3_col8\" class=\"data row3 col8\" >252</td>\n",
              "      <td id=\"T_50fb0_row3_col9\" class=\"data row3 col9\" >252</td>\n",
              "      <td id=\"T_50fb0_row3_col10\" class=\"data row3 col10\" >252</td>\n",
              "      <td id=\"T_50fb0_row3_col11\" class=\"data row3 col11\" >253</td>\n",
              "      <td id=\"T_50fb0_row3_col12\" class=\"data row3 col12\" >252</td>\n",
              "      <td id=\"T_50fb0_row3_col13\" class=\"data row3 col13\" >252</td>\n",
              "      <td id=\"T_50fb0_row3_col14\" class=\"data row3 col14\" >252</td>\n",
              "      <td id=\"T_50fb0_row3_col15\" class=\"data row3 col15\" >252</td>\n",
              "      <td id=\"T_50fb0_row3_col16\" class=\"data row3 col16\" >180</td>\n",
              "      <td id=\"T_50fb0_row3_col17\" class=\"data row3 col17\" >0</td>\n",
              "    </tr>\n",
              "    <tr>\n",
              "      <th id=\"T_50fb0_level0_row4\" class=\"row_heading level0 row4\" >4</th>\n",
              "      <td id=\"T_50fb0_row4_col0\" class=\"data row4 col0\" >0</td>\n",
              "      <td id=\"T_50fb0_row4_col1\" class=\"data row4 col1\" >0</td>\n",
              "      <td id=\"T_50fb0_row4_col2\" class=\"data row4 col2\" >0</td>\n",
              "      <td id=\"T_50fb0_row4_col3\" class=\"data row4 col3\" >0</td>\n",
              "      <td id=\"T_50fb0_row4_col4\" class=\"data row4 col4\" >19</td>\n",
              "      <td id=\"T_50fb0_row4_col5\" class=\"data row4 col5\" >208</td>\n",
              "      <td id=\"T_50fb0_row4_col6\" class=\"data row4 col6\" >252</td>\n",
              "      <td id=\"T_50fb0_row4_col7\" class=\"data row4 col7\" >252</td>\n",
              "      <td id=\"T_50fb0_row4_col8\" class=\"data row4 col8\" >252</td>\n",
              "      <td id=\"T_50fb0_row4_col9\" class=\"data row4 col9\" >252</td>\n",
              "      <td id=\"T_50fb0_row4_col10\" class=\"data row4 col10\" >252</td>\n",
              "      <td id=\"T_50fb0_row4_col11\" class=\"data row4 col11\" >253</td>\n",
              "      <td id=\"T_50fb0_row4_col12\" class=\"data row4 col12\" >252</td>\n",
              "      <td id=\"T_50fb0_row4_col13\" class=\"data row4 col13\" >252</td>\n",
              "      <td id=\"T_50fb0_row4_col14\" class=\"data row4 col14\" >252</td>\n",
              "      <td id=\"T_50fb0_row4_col15\" class=\"data row4 col15\" >252</td>\n",
              "      <td id=\"T_50fb0_row4_col16\" class=\"data row4 col16\" >180</td>\n",
              "      <td id=\"T_50fb0_row4_col17\" class=\"data row4 col17\" >0</td>\n",
              "    </tr>\n",
              "    <tr>\n",
              "      <th id=\"T_50fb0_level0_row5\" class=\"row_heading level0 row5\" >5</th>\n",
              "      <td id=\"T_50fb0_row5_col0\" class=\"data row5 col0\" >0</td>\n",
              "      <td id=\"T_50fb0_row5_col1\" class=\"data row5 col1\" >0</td>\n",
              "      <td id=\"T_50fb0_row5_col2\" class=\"data row5 col2\" >0</td>\n",
              "      <td id=\"T_50fb0_row5_col3\" class=\"data row5 col3\" >0</td>\n",
              "      <td id=\"T_50fb0_row5_col4\" class=\"data row5 col4\" >0</td>\n",
              "      <td id=\"T_50fb0_row5_col5\" class=\"data row5 col5\" >60</td>\n",
              "      <td id=\"T_50fb0_row5_col6\" class=\"data row5 col6\" >119</td>\n",
              "      <td id=\"T_50fb0_row5_col7\" class=\"data row5 col7\" >163</td>\n",
              "      <td id=\"T_50fb0_row5_col8\" class=\"data row5 col8\" >84</td>\n",
              "      <td id=\"T_50fb0_row5_col9\" class=\"data row5 col9\" >84</td>\n",
              "      <td id=\"T_50fb0_row5_col10\" class=\"data row5 col10\" >84</td>\n",
              "      <td id=\"T_50fb0_row5_col11\" class=\"data row5 col11\" >84</td>\n",
              "      <td id=\"T_50fb0_row5_col12\" class=\"data row5 col12\" >100</td>\n",
              "      <td id=\"T_50fb0_row5_col13\" class=\"data row5 col13\" >252</td>\n",
              "      <td id=\"T_50fb0_row5_col14\" class=\"data row5 col14\" >252</td>\n",
              "      <td id=\"T_50fb0_row5_col15\" class=\"data row5 col15\" >252</td>\n",
              "      <td id=\"T_50fb0_row5_col16\" class=\"data row5 col16\" >180</td>\n",
              "      <td id=\"T_50fb0_row5_col17\" class=\"data row5 col17\" >0</td>\n",
              "    </tr>\n",
              "    <tr>\n",
              "      <th id=\"T_50fb0_level0_row6\" class=\"row_heading level0 row6\" >6</th>\n",
              "      <td id=\"T_50fb0_row6_col0\" class=\"data row6 col0\" >0</td>\n",
              "      <td id=\"T_50fb0_row6_col1\" class=\"data row6 col1\" >0</td>\n",
              "      <td id=\"T_50fb0_row6_col2\" class=\"data row6 col2\" >0</td>\n",
              "      <td id=\"T_50fb0_row6_col3\" class=\"data row6 col3\" >0</td>\n",
              "      <td id=\"T_50fb0_row6_col4\" class=\"data row6 col4\" >0</td>\n",
              "      <td id=\"T_50fb0_row6_col5\" class=\"data row6 col5\" >0</td>\n",
              "      <td id=\"T_50fb0_row6_col6\" class=\"data row6 col6\" >0</td>\n",
              "      <td id=\"T_50fb0_row6_col7\" class=\"data row6 col7\" >0</td>\n",
              "      <td id=\"T_50fb0_row6_col8\" class=\"data row6 col8\" >0</td>\n",
              "      <td id=\"T_50fb0_row6_col9\" class=\"data row6 col9\" >0</td>\n",
              "      <td id=\"T_50fb0_row6_col10\" class=\"data row6 col10\" >0</td>\n",
              "      <td id=\"T_50fb0_row6_col11\" class=\"data row6 col11\" >0</td>\n",
              "      <td id=\"T_50fb0_row6_col12\" class=\"data row6 col12\" >111</td>\n",
              "      <td id=\"T_50fb0_row6_col13\" class=\"data row6 col13\" >252</td>\n",
              "      <td id=\"T_50fb0_row6_col14\" class=\"data row6 col14\" >252</td>\n",
              "      <td id=\"T_50fb0_row6_col15\" class=\"data row6 col15\" >252</td>\n",
              "      <td id=\"T_50fb0_row6_col16\" class=\"data row6 col16\" >94</td>\n",
              "      <td id=\"T_50fb0_row6_col17\" class=\"data row6 col17\" >0</td>\n",
              "    </tr>\n",
              "    <tr>\n",
              "      <th id=\"T_50fb0_level0_row7\" class=\"row_heading level0 row7\" >7</th>\n",
              "      <td id=\"T_50fb0_row7_col0\" class=\"data row7 col0\" >0</td>\n",
              "      <td id=\"T_50fb0_row7_col1\" class=\"data row7 col1\" >0</td>\n",
              "      <td id=\"T_50fb0_row7_col2\" class=\"data row7 col2\" >0</td>\n",
              "      <td id=\"T_50fb0_row7_col3\" class=\"data row7 col3\" >0</td>\n",
              "      <td id=\"T_50fb0_row7_col4\" class=\"data row7 col4\" >0</td>\n",
              "      <td id=\"T_50fb0_row7_col5\" class=\"data row7 col5\" >0</td>\n",
              "      <td id=\"T_50fb0_row7_col6\" class=\"data row7 col6\" >0</td>\n",
              "      <td id=\"T_50fb0_row7_col7\" class=\"data row7 col7\" >0</td>\n",
              "      <td id=\"T_50fb0_row7_col8\" class=\"data row7 col8\" >0</td>\n",
              "      <td id=\"T_50fb0_row7_col9\" class=\"data row7 col9\" >0</td>\n",
              "      <td id=\"T_50fb0_row7_col10\" class=\"data row7 col10\" >0</td>\n",
              "      <td id=\"T_50fb0_row7_col11\" class=\"data row7 col11\" >44</td>\n",
              "      <td id=\"T_50fb0_row7_col12\" class=\"data row7 col12\" >227</td>\n",
              "      <td id=\"T_50fb0_row7_col13\" class=\"data row7 col13\" >252</td>\n",
              "      <td id=\"T_50fb0_row7_col14\" class=\"data row7 col14\" >252</td>\n",
              "      <td id=\"T_50fb0_row7_col15\" class=\"data row7 col15\" >206</td>\n",
              "      <td id=\"T_50fb0_row7_col16\" class=\"data row7 col16\" >14</td>\n",
              "      <td id=\"T_50fb0_row7_col17\" class=\"data row7 col17\" >0</td>\n",
              "    </tr>\n",
              "    <tr>\n",
              "      <th id=\"T_50fb0_level0_row8\" class=\"row_heading level0 row8\" >8</th>\n",
              "      <td id=\"T_50fb0_row8_col0\" class=\"data row8 col0\" >0</td>\n",
              "      <td id=\"T_50fb0_row8_col1\" class=\"data row8 col1\" >0</td>\n",
              "      <td id=\"T_50fb0_row8_col2\" class=\"data row8 col2\" >0</td>\n",
              "      <td id=\"T_50fb0_row8_col3\" class=\"data row8 col3\" >0</td>\n",
              "      <td id=\"T_50fb0_row8_col4\" class=\"data row8 col4\" >0</td>\n",
              "      <td id=\"T_50fb0_row8_col5\" class=\"data row8 col5\" >0</td>\n",
              "      <td id=\"T_50fb0_row8_col6\" class=\"data row8 col6\" >0</td>\n",
              "      <td id=\"T_50fb0_row8_col7\" class=\"data row8 col7\" >0</td>\n",
              "      <td id=\"T_50fb0_row8_col8\" class=\"data row8 col8\" >0</td>\n",
              "      <td id=\"T_50fb0_row8_col9\" class=\"data row8 col9\" >0</td>\n",
              "      <td id=\"T_50fb0_row8_col10\" class=\"data row8 col10\" >0</td>\n",
              "      <td id=\"T_50fb0_row8_col11\" class=\"data row8 col11\" >132</td>\n",
              "      <td id=\"T_50fb0_row8_col12\" class=\"data row8 col12\" >252</td>\n",
              "      <td id=\"T_50fb0_row8_col13\" class=\"data row8 col13\" >252</td>\n",
              "      <td id=\"T_50fb0_row8_col14\" class=\"data row8 col14\" >252</td>\n",
              "      <td id=\"T_50fb0_row8_col15\" class=\"data row8 col15\" >151</td>\n",
              "      <td id=\"T_50fb0_row8_col16\" class=\"data row8 col16\" >0</td>\n",
              "      <td id=\"T_50fb0_row8_col17\" class=\"data row8 col17\" >0</td>\n",
              "    </tr>\n",
              "    <tr>\n",
              "      <th id=\"T_50fb0_level0_row9\" class=\"row_heading level0 row9\" >9</th>\n",
              "      <td id=\"T_50fb0_row9_col0\" class=\"data row9 col0\" >0</td>\n",
              "      <td id=\"T_50fb0_row9_col1\" class=\"data row9 col1\" >0</td>\n",
              "      <td id=\"T_50fb0_row9_col2\" class=\"data row9 col2\" >0</td>\n",
              "      <td id=\"T_50fb0_row9_col3\" class=\"data row9 col3\" >0</td>\n",
              "      <td id=\"T_50fb0_row9_col4\" class=\"data row9 col4\" >0</td>\n",
              "      <td id=\"T_50fb0_row9_col5\" class=\"data row9 col5\" >0</td>\n",
              "      <td id=\"T_50fb0_row9_col6\" class=\"data row9 col6\" >0</td>\n",
              "      <td id=\"T_50fb0_row9_col7\" class=\"data row9 col7\" >0</td>\n",
              "      <td id=\"T_50fb0_row9_col8\" class=\"data row9 col8\" >0</td>\n",
              "      <td id=\"T_50fb0_row9_col9\" class=\"data row9 col9\" >0</td>\n",
              "      <td id=\"T_50fb0_row9_col10\" class=\"data row9 col10\" >0</td>\n",
              "      <td id=\"T_50fb0_row9_col11\" class=\"data row9 col11\" >237</td>\n",
              "      <td id=\"T_50fb0_row9_col12\" class=\"data row9 col12\" >252</td>\n",
              "      <td id=\"T_50fb0_row9_col13\" class=\"data row9 col13\" >252</td>\n",
              "      <td id=\"T_50fb0_row9_col14\" class=\"data row9 col14\" >164</td>\n",
              "      <td id=\"T_50fb0_row9_col15\" class=\"data row9 col15\" >10</td>\n",
              "      <td id=\"T_50fb0_row9_col16\" class=\"data row9 col16\" >0</td>\n",
              "      <td id=\"T_50fb0_row9_col17\" class=\"data row9 col17\" >0</td>\n",
              "    </tr>\n",
              "    <tr>\n",
              "      <th id=\"T_50fb0_level0_row10\" class=\"row_heading level0 row10\" >10</th>\n",
              "      <td id=\"T_50fb0_row10_col0\" class=\"data row10 col0\" >0</td>\n",
              "      <td id=\"T_50fb0_row10_col1\" class=\"data row10 col1\" >0</td>\n",
              "      <td id=\"T_50fb0_row10_col2\" class=\"data row10 col2\" >0</td>\n",
              "      <td id=\"T_50fb0_row10_col3\" class=\"data row10 col3\" >0</td>\n",
              "      <td id=\"T_50fb0_row10_col4\" class=\"data row10 col4\" >0</td>\n",
              "      <td id=\"T_50fb0_row10_col5\" class=\"data row10 col5\" >0</td>\n",
              "      <td id=\"T_50fb0_row10_col6\" class=\"data row10 col6\" >0</td>\n",
              "      <td id=\"T_50fb0_row10_col7\" class=\"data row10 col7\" >0</td>\n",
              "      <td id=\"T_50fb0_row10_col8\" class=\"data row10 col8\" >0</td>\n",
              "      <td id=\"T_50fb0_row10_col9\" class=\"data row10 col9\" >0</td>\n",
              "      <td id=\"T_50fb0_row10_col10\" class=\"data row10 col10\" >110</td>\n",
              "      <td id=\"T_50fb0_row10_col11\" class=\"data row10 col11\" >253</td>\n",
              "      <td id=\"T_50fb0_row10_col12\" class=\"data row10 col12\" >252</td>\n",
              "      <td id=\"T_50fb0_row10_col13\" class=\"data row10 col13\" >252</td>\n",
              "      <td id=\"T_50fb0_row10_col14\" class=\"data row10 col14\" >84</td>\n",
              "      <td id=\"T_50fb0_row10_col15\" class=\"data row10 col15\" >0</td>\n",
              "      <td id=\"T_50fb0_row10_col16\" class=\"data row10 col16\" >0</td>\n",
              "      <td id=\"T_50fb0_row10_col17\" class=\"data row10 col17\" >0</td>\n",
              "    </tr>\n",
              "  </tbody>\n",
              "</table>\n"
            ]
          },
          "metadata": {},
          "execution_count": 11
        }
      ]
    },
    {
      "cell_type": "markdown",
      "metadata": {
        "id": "4PBjAr_okVHm"
      },
      "source": [
        "We will start by making a simple baseline predictive model (pixel similarity):"
      ]
    },
    {
      "cell_type": "code",
      "metadata": {
        "id": "yUNLotm1hlGp"
      },
      "source": [
        "three_tensors = [tensor(Image.open(f)) for f in threes]\n",
        "seven_tensors = [tensor(Image.open(f)) for f in sevens]\n"
      ],
      "execution_count": 12,
      "outputs": []
    },
    {
      "cell_type": "code",
      "metadata": {
        "id": "RPNfCGqn6vGb",
        "colab": {
          "base_uri": "https://localhost:8080/",
          "height": 137
        },
        "outputId": "edc624b8-31e1-4d98-b071-827dc293d1a8"
      },
      "source": [
        "print(len(seven_tensors))\n",
        "print(seven_tensors[1].shape)\n",
        "show_image(seven_tensors[1])"
      ],
      "execution_count": 13,
      "outputs": [
        {
          "output_type": "stream",
          "name": "stdout",
          "text": [
            "6265\n",
            "torch.Size([28, 28])\n"
          ]
        },
        {
          "output_type": "execute_result",
          "data": {
            "text/plain": [
              "<matplotlib.axes._subplots.AxesSubplot at 0x7f65c7b20b80>"
            ]
          },
          "metadata": {},
          "execution_count": 13
        },
        {
          "output_type": "display_data",
          "data": {
            "text/plain": [
              "<Figure size 72x72 with 1 Axes>"
            ],
            "image/png": "[encoded data removed]"
          },
          "metadata": {
            "needs_background": "light"
          }
        }
      ]
    },
    {
      "cell_type": "markdown",
      "metadata": {
        "id": "bH3ZvaAslLvA"
      },
      "source": [
        "Let's stack our images into a two tensors and normalize them:"
      ]
    },
    {
      "cell_type": "code",
      "metadata": {
        "id": "7TkNO-TGlK5K"
      },
      "source": [
        "stacked_threes = torch.stack(three_tensors).float() / 255\n",
        "stacked_sevens = torch.stack(seven_tensors).float() / 255\n",
        "\n"
      ],
      "execution_count": 14,
      "outputs": []
    },
    {
      "cell_type": "code",
      "metadata": {
        "id": "SjAJHKicTOhR",
        "colab": {
          "base_uri": "https://localhost:8080/"
        },
        "outputId": "c773509b-207f-477a-8fae-8216eac8b51c"
      },
      "source": [
        "print(stacked_sevens.shape)\n",
        "a_3 = stacked_threes[34]\n",
        "a_7 = stacked_sevens[54]\n",
        "a_3.shape"
      ],
      "execution_count": 15,
      "outputs": [
        {
          "output_type": "stream",
          "name": "stdout",
          "text": [
            "torch.Size([6265, 28, 28])\n"
          ]
        },
        {
          "output_type": "execute_result",
          "data": {
            "text/plain": [
              "torch.Size([28, 28])"
            ]
          },
          "metadata": {},
          "execution_count": 15
        }
      ]
    },
    {
      "cell_type": "markdown",
      "metadata": {
        "id": "aIXHLMfrl90p"
      },
      "source": [
        "For this simple model, we will compare new images against the means of 3 and 7 tensors:\n"
      ]
    },
    {
      "cell_type": "code",
      "metadata": {
        "colab": {
          "base_uri": "https://localhost:8080/",
          "height": 153
        },
        "id": "g7d5SDHwk13P",
        "outputId": "43e6c297-cfa3-4363-c127-d4fc51b34c4c"
      },
      "source": [
        "mean3 = stacked_threes.mean(0)\n",
        "mean7 = stacked_sevens.mean(0)\n",
        "\n",
        "show_image(mean3), show_image(mean7);"
      ],
      "execution_count": 16,
      "outputs": [
        {
          "output_type": "display_data",
          "data": {
            "text/plain": [
              "<Figure size 72x72 with 1 Axes>"
            ],
            "image/png": "[encoded data removed]"
          },
          "metadata": {
            "needs_background": "light"
          }
        },
        {
          "output_type": "display_data",
          "data": {
            "text/plain": [
              "<Figure size 72x72 with 1 Axes>"
            ],
            "image/png": "[encoded data removed]"
          },
          "metadata": {
            "needs_background": "light"
          }
        }
      ]
    },
    {
      "cell_type": "code",
      "metadata": {
        "id": "ssyxCFxqRjOI",
        "colab": {
          "base_uri": "https://localhost:8080/"
        },
        "outputId": "27db180c-6708-4a32-fc7e-e8b498c7ff88"
      },
      "source": [
        " def img_distance(a, b):\n",
        "     return (a - b).abs().mean()\n",
        "\n",
        "print(img_distance(a_7, mean7))\n",
        "print(img_distance(a_7, mean3))"
      ],
      "execution_count": 17,
      "outputs": [
        {
          "output_type": "stream",
          "name": "stdout",
          "text": [
            "tensor(0.1084)\n",
            "tensor(0.1410)\n"
          ]
        }
      ]
    },
    {
      "cell_type": "code",
      "metadata": {
        "id": "eSnQQt5WchMQ",
        "colab": {
          "base_uri": "https://localhost:8080/"
        },
        "outputId": "49e5806b-3977-4a0c-9aea-8a491aa28a66"
      },
      "source": [
        "(path / 'valid/7').ls()"
      ],
      "execution_count": 18,
      "outputs": [
        {
          "output_type": "execute_result",
          "data": {
            "text/plain": [
              "(#1028) [Path('valid/7/7966.png'),Path('valid/7/2243.png'),Path('valid/7/9640.png'),Path('valid/7/1012.png'),Path('valid/7/1366.png'),Path('valid/7/4539.png'),Path('valid/7/9765.png'),Path('valid/7/243.png'),Path('valid/7/6050.png'),Path('valid/7/8837.png')...]"
            ]
          },
          "metadata": {},
          "execution_count": 18
        }
      ]
    },
    {
      "cell_type": "markdown",
      "metadata": {
        "id": "3tHlOMWwletX"
      },
      "source": [
        "Let's create a validation set and a simple MAE fucntion:\n"
      ]
    },
    {
      "cell_type": "code",
      "metadata": {
        "id": "xfskJkDomhWG",
        "colab": {
          "base_uri": "https://localhost:8080/"
        },
        "outputId": "abbef270-3e4d-4f47-8013-cd839b4f2dc4"
      },
      "source": [
        "# Stack tensors:\n",
        "valid_3_tensors = torch.stack([tensor(Image.open(f)) for f in (path/'valid/3').ls()])\n",
        "valid_7_tensors = torch.stack([tensor(Image.open(f)) for f in (path/'valid/7').ls()])\n",
        "\n",
        "# Normalize tensors:\n",
        "valid_3_tensors = valid_3_tensors.float()/255\n",
        "valid_7_tensors = valid_7_tensors.float()/255\n",
        "\n",
        "print(valid_3_tensors.shape)"
      ],
      "execution_count": 19,
      "outputs": [
        {
          "output_type": "stream",
          "name": "stdout",
          "text": [
            "torch.Size([1010, 28, 28])\n"
          ]
        }
      ]
    },
    {
      "cell_type": "code",
      "metadata": {
        "id": "HPEX4YbiSZGE"
      },
      "source": [
        "def img_distance(input, mean_tensor): \n",
        "    return (input-mean_tensor).abs().mean((-1,-2))\n",
        "\n",
        "def is_3(x): \n",
        "    return (img_distance(x, mean3) < img_distance(x, mean7)).float()\n"
      ],
      "execution_count": 20,
      "outputs": []
    },
    {
      "cell_type": "code",
      "metadata": {
        "id": "HNLMPC1JIf7W",
        "colab": {
          "base_uri": "https://localhost:8080/"
        },
        "outputId": "883810d6-57b3-4698-949a-d10ec6f1bebb"
      },
      "source": [
        "is_3(valid_3_tensors).shape"
      ],
      "execution_count": 21,
      "outputs": [
        {
          "output_type": "execute_result",
          "data": {
            "text/plain": [
              "torch.Size([1010])"
            ]
          },
          "metadata": {},
          "execution_count": 21
        }
      ]
    },
    {
      "cell_type": "code",
      "metadata": {
        "colab": {
          "base_uri": "https://localhost:8080/"
        },
        "id": "J7Ze_v50nCjx",
        "outputId": "77fe0a63-ff5d-4110-b87e-50b144badbf4"
      },
      "source": [
        "accuracy_3s = is_3(valid_3_tensors).mean()\n",
        "accuracy_7s = (1 - is_3(valid_7_tensors)).mean()\n",
        "\n",
        "print(accuracy_3s)\n",
        "print(accuracy_7s)\n"
      ],
      "execution_count": 22,
      "outputs": [
        {
          "output_type": "stream",
          "name": "stdout",
          "text": [
            "tensor(0.9168)\n",
            "tensor(0.9854)\n"
          ]
        }
      ]
    },
    {
      "cell_type": "code",
      "source": [
        "print(len(stacked_threes))\n",
        "print(len(stacked_sevens))\n",
        "print(len(valid_3_tensors))\n",
        "print(len(valid_7_tensors))"
      ],
      "metadata": {
        "colab": {
          "base_uri": "https://localhost:8080/"
        },
        "id": "wGbHK7DZpR35",
        "outputId": "7cc0d91f-2a15-4281-d3fd-10505a2b6053"
      },
      "execution_count": 23,
      "outputs": [
        {
          "output_type": "stream",
          "name": "stdout",
          "text": [
            "6131\n",
            "6265\n",
            "1010\n",
            "1028\n"
          ]
        }
      ]
    },
    {
      "cell_type": "code",
      "source": [
        "stacked_threes[62].shape"
      ],
      "metadata": {
        "colab": {
          "base_uri": "https://localhost:8080/"
        },
        "id": "lSWoBscRpSBI",
        "outputId": "c890444c-4619-4fc9-e691-3c431bc76132"
      },
      "execution_count": 24,
      "outputs": [
        {
          "output_type": "execute_result",
          "data": {
            "text/plain": [
              "torch.Size([28, 28])"
            ]
          },
          "metadata": {},
          "execution_count": 24
        }
      ]
    },
    {
      "cell_type": "code",
      "source": [
        "smaple_tensor = stacked_threes[62]\n",
        "smaple_tensor_reshape = smaple_tensor.view(-1, 784)"
      ],
      "metadata": {
        "id": "SkBH4xFspSEf"
      },
      "execution_count": 25,
      "outputs": []
    },
    {
      "cell_type": "code",
      "source": [
        "smaple_tensor_reshape.shape"
      ],
      "metadata": {
        "colab": {
          "base_uri": "https://localhost:8080/"
        },
        "id": "rLZpOyP2rXdC",
        "outputId": "5cd4a7dc-5e34-4ceb-d3ba-aea833f0114e"
      },
      "execution_count": 26,
      "outputs": [
        {
          "output_type": "execute_result",
          "data": {
            "text/plain": [
              "torch.Size([1, 784])"
            ]
          },
          "metadata": {},
          "execution_count": 26
        }
      ]
    },
    {
      "cell_type": "code",
      "source": [
        "train_x = torch.cat([stacked_threes, stacked_sevens])"
      ],
      "metadata": {
        "id": "tZ_2Bee4rafW"
      },
      "execution_count": 27,
      "outputs": []
    },
    {
      "cell_type": "code",
      "source": [
        "train_x.shape"
      ],
      "metadata": {
        "colab": {
          "base_uri": "https://localhost:8080/"
        },
        "id": "iRQox-s6sGJG",
        "outputId": "23de4844-729e-4531-f315-61ddbfc3665f"
      },
      "execution_count": 28,
      "outputs": [
        {
          "output_type": "execute_result",
          "data": {
            "text/plain": [
              "torch.Size([12396, 28, 28])"
            ]
          },
          "metadata": {},
          "execution_count": 28
        }
      ]
    },
    {
      "cell_type": "code",
      "source": [
        "train_x = train_x.view(-1,784)\n",
        "train_x"
      ],
      "metadata": {
        "colab": {
          "base_uri": "https://localhost:8080/"
        },
        "id": "EK7jw_ABsH1u",
        "outputId": "d469808d-905f-4709-f52b-ad47554875fe"
      },
      "execution_count": 29,
      "outputs": [
        {
          "output_type": "execute_result",
          "data": {
            "text/plain": [
              "tensor([[0., 0., 0.,  ..., 0., 0., 0.],\n",
              "        [0., 0., 0.,  ..., 0., 0., 0.],\n",
              "        [0., 0., 0.,  ..., 0., 0., 0.],\n",
              "        ...,\n",
              "        [0., 0., 0.,  ..., 0., 0., 0.],\n",
              "        [0., 0., 0.,  ..., 0., 0., 0.],\n",
              "        [0., 0., 0.,  ..., 0., 0., 0.]])"
            ]
          },
          "metadata": {},
          "execution_count": 29
        }
      ]
    },
    {
      "cell_type": "code",
      "source": [
        "train_x.shape"
      ],
      "metadata": {
        "colab": {
          "base_uri": "https://localhost:8080/"
        },
        "id": "fk0-k3yqtt9_",
        "outputId": "9fbe0509-1846-4271-b940-2755b2771f97"
      },
      "execution_count": 30,
      "outputs": [
        {
          "output_type": "execute_result",
          "data": {
            "text/plain": [
              "torch.Size([12396, 784])"
            ]
          },
          "metadata": {},
          "execution_count": 30
        }
      ]
    },
    {
      "cell_type": "code",
      "source": [
        "# ~ torch.cat([stacked_threes, stacked_sevens])\n",
        "\n",
        "train_y = tensor([1] * len(stacked_threes) + [0] * len(stacked_sevens))"
      ],
      "metadata": {
        "id": "cKwt4-l9v0Iy"
      },
      "execution_count": 31,
      "outputs": []
    },
    {
      "cell_type": "code",
      "source": [
        "train_y.shape"
      ],
      "metadata": {
        "colab": {
          "base_uri": "https://localhost:8080/"
        },
        "id": "tIFmZq5OwVSW",
        "outputId": "6411e12b-b492-42b9-980a-6848d9a5c8a8"
      },
      "execution_count": 32,
      "outputs": [
        {
          "output_type": "execute_result",
          "data": {
            "text/plain": [
              "torch.Size([12396])"
            ]
          },
          "metadata": {},
          "execution_count": 32
        }
      ]
    },
    {
      "cell_type": "code",
      "source": [
        "train_y = train_y.unsqueeze(-1)"
      ],
      "metadata": {
        "id": "lqOCeJNrwvz5"
      },
      "execution_count": 33,
      "outputs": []
    },
    {
      "cell_type": "code",
      "source": [
        "train_y.shape"
      ],
      "metadata": {
        "colab": {
          "base_uri": "https://localhost:8080/"
        },
        "id": "NO4JLftoxImZ",
        "outputId": "a9dcc81b-2ddd-4a4b-cdb9-184eb8f1f272"
      },
      "execution_count": 34,
      "outputs": [
        {
          "output_type": "execute_result",
          "data": {
            "text/plain": [
              "torch.Size([12396, 1])"
            ]
          },
          "metadata": {},
          "execution_count": 34
        }
      ]
    },
    {
      "cell_type": "code",
      "source": [
        "valid_x = torch.cat([valid_3_tensors, valid_7_tensors]).view(-1, 784)\n",
        "valid_y = tensor([1]*len(valid_3_tensors) + [0]*len(valid_7_tensors)).unsqueeze(-1)\n",
        "\n",
        "print(valid_x.shape, valid_y.shape)"
      ],
      "metadata": {
        "colab": {
          "base_uri": "https://localhost:8080/"
        },
        "id": "8NL7-pK2xIpC",
        "outputId": "11098bc3-ef28-4ba6-a909-15e14367955c"
      },
      "execution_count": 35,
      "outputs": [
        {
          "output_type": "stream",
          "name": "stdout",
          "text": [
            "torch.Size([2038, 784]) torch.Size([2038, 1])\n"
          ]
        }
      ]
    },
    {
      "cell_type": "code",
      "source": [
        "# create dataset\n",
        "\n",
        "dset = list(zip(train_x, train_y))\n",
        "\n",
        "valid_dset = list(zip(valid_x, valid_y))"
      ],
      "metadata": {
        "id": "Kshzl_b4xIrb"
      },
      "execution_count": 36,
      "outputs": []
    },
    {
      "cell_type": "code",
      "source": [
        "x, y = dset[93]\n",
        "\n",
        "print(x.shape)\n",
        "print(y)"
      ],
      "metadata": {
        "colab": {
          "base_uri": "https://localhost:8080/"
        },
        "id": "3d-nrRn-xItz",
        "outputId": "f82fe507-1529-4d87-d280-c03b009602aa"
      },
      "execution_count": 37,
      "outputs": [
        {
          "output_type": "stream",
          "name": "stdout",
          "text": [
            "torch.Size([784])\n",
            "tensor([1])\n"
          ]
        }
      ]
    },
    {
      "cell_type": "code",
      "source": [
        "dl = DataLoader(dset, batch_size= 256)\n",
        "\n",
        "valid_dl = DataLoader(valid_dset, batch_size=256)"
      ],
      "metadata": {
        "id": "-u5dfbA0xIwZ"
      },
      "execution_count": 38,
      "outputs": []
    },
    {
      "cell_type": "code",
      "source": [
        "def init_params(size, std =1):\n",
        "  return (torch.randn(size)*std).requires_grad_()\n",
        "\n",
        "\n",
        "weights = init_params((784,1))\n",
        "bias = init_params(1)"
      ],
      "metadata": {
        "id": "ua1aFDhjxIyy"
      },
      "execution_count": 39,
      "outputs": []
    },
    {
      "cell_type": "code",
      "source": [
        "# batches \n",
        "len(list(dl))"
      ],
      "metadata": {
        "colab": {
          "base_uri": "https://localhost:8080/"
        },
        "id": "S1P4SIwsxI1H",
        "outputId": "5f4761ae-34f0-4f72-cd71-e8ea4826593a"
      },
      "execution_count": 40,
      "outputs": [
        {
          "output_type": "execute_result",
          "data": {
            "text/plain": [
              "49"
            ]
          },
          "metadata": {},
          "execution_count": 40
        }
      ]
    },
    {
      "cell_type": "code",
      "source": [
        "print(list(dl)[19][0].shape)\n",
        "print(list(dl)[19][1].shape)"
      ],
      "metadata": {
        "colab": {
          "base_uri": "https://localhost:8080/"
        },
        "id": "_pCrEb1XxI3V",
        "outputId": "2ad65afa-5751-453a-b7e5-93face3efa74"
      },
      "execution_count": 41,
      "outputs": [
        {
          "output_type": "stream",
          "name": "stdout",
          "text": [
            "torch.Size([256, 784])\n",
            "torch.Size([256, 1])\n"
          ]
        }
      ]
    },
    {
      "cell_type": "code",
      "source": [
        "sample_input = list(dl)[19][0][100]\n",
        "sample_target = list(dl)[19][1][100]"
      ],
      "metadata": {
        "id": "o8FGGi0J3-2e"
      },
      "execution_count": 42,
      "outputs": []
    },
    {
      "cell_type": "code",
      "source": [
        "sample_input.shape"
      ],
      "metadata": {
        "colab": {
          "base_uri": "https://localhost:8080/"
        },
        "id": "hpYE6Uz06By_",
        "outputId": "01769ea7-aba0-4cf4-94dd-bab62448df97"
      },
      "execution_count": 43,
      "outputs": [
        {
          "output_type": "execute_result",
          "data": {
            "text/plain": [
              "torch.Size([784])"
            ]
          },
          "metadata": {},
          "execution_count": 43
        }
      ]
    },
    {
      "cell_type": "code",
      "source": [
        "pred = sample_input @ weights + bias\n",
        "\n",
        "sample_batch_pred = list(dl)[19][0] @ weights + bias"
      ],
      "metadata": {
        "id": "HglmqC6a6B1n"
      },
      "execution_count": 44,
      "outputs": []
    },
    {
      "cell_type": "code",
      "source": [
        "sample_batch_pred.shape"
      ],
      "metadata": {
        "colab": {
          "base_uri": "https://localhost:8080/"
        },
        "id": "t-0yxq9l6B4C",
        "outputId": "ed716ad6-b3b0-4fd6-c5e5-4e36ad68ca14"
      },
      "execution_count": 45,
      "outputs": [
        {
          "output_type": "execute_result",
          "data": {
            "text/plain": [
              "torch.Size([256, 1])"
            ]
          },
          "metadata": {},
          "execution_count": 45
        }
      ]
    },
    {
      "cell_type": "code",
      "source": [
        "def linear1(x):\n",
        "  return(x @ weights + bias)\n"
      ],
      "metadata": {
        "id": "52jtqNyU6B6k"
      },
      "execution_count": 46,
      "outputs": []
    },
    {
      "cell_type": "code",
      "source": [
        "preds = linear1(list(dl)[23][0])\n",
        "\n",
        "preds.shape"
      ],
      "metadata": {
        "colab": {
          "base_uri": "https://localhost:8080/"
        },
        "id": "xmrv86Vd6B9K",
        "outputId": "9b6c088d-d21e-465e-f8c4-991625ad1b62"
      },
      "execution_count": 47,
      "outputs": [
        {
          "output_type": "execute_result",
          "data": {
            "text/plain": [
              "torch.Size([256, 1])"
            ]
          },
          "metadata": {},
          "execution_count": 47
        }
      ]
    },
    {
      "cell_type": "code",
      "source": [
        "def mnist_loss(predictions, targets):\n",
        "  predictions = predictions.sigmoid()\n",
        "  predictions = (predictions > 0.5).float()\n",
        "\n",
        "  return torch.where(targets == 1, 1-predictions, predictions).mean()"
      ],
      "metadata": {
        "id": "_AgIEYWi6CAg"
      },
      "execution_count": 48,
      "outputs": []
    },
    {
      "cell_type": "code",
      "source": [
        "sample_input_batch = list(dl)[19][0]\n",
        "sample_target_batch = list(dl)[19][1]\n",
        "\n",
        "sample_preds_batch = linear1(sample_input_batch)\n",
        "\n",
        "sample_error = mnist_loss(sample_preds_batch, sample_target_batch)\n",
        "print(sample_error)"
      ],
      "metadata": {
        "colab": {
          "base_uri": "https://localhost:8080/"
        },
        "id": "FYDnmFEk9U2_",
        "outputId": "cc8645a7-c164-4cad-a4f5-13f729f6afdc"
      },
      "execution_count": 49,
      "outputs": [
        {
          "output_type": "stream",
          "name": "stdout",
          "text": [
            "tensor(0.8203)\n"
          ]
        }
      ]
    },
    {
      "cell_type": "code",
      "source": [
        "\"\"\" Full Model \"\"\"\n",
        "\n",
        "dl = DataLoader(dset, batch_size=256)\n",
        "valid_dl = DataLoader(valid_dset, batch_size=256)\n",
        "\n",
        "\n",
        "def init_params(size, std =1):\n",
        "  return (torch.randn(size)*std).requires_grad_()\n",
        "\n",
        "\n",
        "weights = init_params((784,1))\n",
        "bias = init_params(1)\n",
        "params = weights, bias\n",
        "\n",
        "\n",
        "def linear1(x):\n",
        "  return(x @ weights + bias)\n",
        "\n",
        "def mnist_loss(predictions, targets):\n",
        "  predictions = predictions.sigmoid()\n",
        "  predictions = (predictions > 0.5).float()\n",
        "\n",
        "  return torch.where(targets == 1, 1-predictions, predictions).mean()\n",
        "\n",
        "\n",
        "\n",
        "def calc_grad(xb, yb, model):\n",
        "  # 1. Claculate predictions using xb(input batch)\n",
        "  # 2. Compute loss, using preds and yb(target batch)\n",
        "  # 3. Compute derevitive of loss with respect to parametrs(backpropagation)\n",
        "  preds = model(xb)\n",
        "  loss = mnist_loss(preds, yb)\n",
        "  loss.backward()\n",
        "\n",
        "def train_epoch(model, lr, params):\n",
        "  # Loop through all batches: for each, perform backpropagation\n",
        "  # Update params(parameters), using SGD with learning rate = lr\n",
        "  for xb, yb in dl:\n",
        "    calc_grad(xb, yb, model)\n",
        "    for p in params :\n",
        "      p.data -= p.grad * lr\n",
        "      p.grad.zero_()\n",
        "\n",
        "def batch_accuracy(xb_pred, yb):\n",
        "  # Using a batch prediction(xb_pred) and its corresponding target(yb)\n",
        "  # Calculate the batch accuracy (higher is better)\n",
        "  preds = xb_pred.sigmoid()\n",
        "  correct = (preds > 0.5) == yb\n",
        "\n",
        "  return correct.float().mean()\n",
        "\n",
        "\n",
        "def validate_epoch(model):\n",
        "  # Calculate the mean accuracy over batches in the validation set.\n",
        "\n",
        "  accs = [batch_accuracy(xb_pred, yb) for xb_pred, yb in valid_dl]\n",
        "  \n",
        "  return round(torch.stack(accs).mean().item(), 4)\n",
        "\n",
        "\n"
      ],
      "metadata": {
        "id": "ukPSzJ1y9U8D"
      },
      "execution_count": 54,
      "outputs": []
    },
    {
      "cell_type": "code",
      "source": [
        "validate_epoch(linear1)"
      ],
      "metadata": {
        "colab": {
          "base_uri": "https://localhost:8080/"
        },
        "id": "sXjvsKQ09U-1",
        "outputId": "14aebd64-198b-4e4e-c679-94ac69a77da9"
      },
      "execution_count": 55,
      "outputs": [
        {
          "output_type": "execute_result",
          "data": {
            "text/plain": [
              "0.5251"
            ]
          },
          "metadata": {},
          "execution_count": 55
        }
      ]
    },
    {
      "cell_type": "code",
      "source": [
        "\n",
        "weights = init_params((784,1))\n",
        "bias = init_params(1)\n",
        "params = weights, bias\n"
      ],
      "metadata": {
        "id": "AKCMFg1bhf37"
      },
      "execution_count": 57,
      "outputs": []
    },
    {
      "cell_type": "code",
      "source": [
        "for ep in range(10):\n",
        "  train_epoch(linear1, 0.5, params)\n",
        "  print(validate_epoch(linear1))"
      ],
      "metadata": {
        "colab": {
          "base_uri": "https://localhost:8080/",
          "height": 345
        },
        "id": "7UTDYekk9VCO",
        "outputId": "eacba65c-13b2-4139-dbae-a2ffa6b299cc"
      },
      "execution_count": 58,
      "outputs": [
        {
          "output_type": "error",
          "ename": "RuntimeError",
          "evalue": "ignored",
          "traceback": [
            "\u001b[0;31m---------------------------------------------------------------------------\u001b[0m",
            "\u001b[0;31mRuntimeError\u001b[0m                              Traceback (most recent call last)",
            "\u001b[0;32m<ipython-input-58-cee2a7157365>\u001b[0m in \u001b[0;36m<module>\u001b[0;34m\u001b[0m\n\u001b[1;32m      1\u001b[0m \u001b[0;32mfor\u001b[0m \u001b[0mep\u001b[0m \u001b[0;32min\u001b[0m \u001b[0mrange\u001b[0m\u001b[0;34m(\u001b[0m\u001b[0;36m10\u001b[0m\u001b[0;34m)\u001b[0m\u001b[0;34m:\u001b[0m\u001b[0;34m\u001b[0m\u001b[0;34m\u001b[0m\u001b[0m\n\u001b[0;32m----> 2\u001b[0;31m   \u001b[0mtrain_epoch\u001b[0m\u001b[0;34m(\u001b[0m\u001b[0mlinear1\u001b[0m\u001b[0;34m,\u001b[0m \u001b[0;36m0.5\u001b[0m\u001b[0;34m,\u001b[0m \u001b[0mparams\u001b[0m\u001b[0;34m)\u001b[0m\u001b[0;34m\u001b[0m\u001b[0;34m\u001b[0m\u001b[0m\n\u001b[0m\u001b[1;32m      3\u001b[0m   \u001b[0mprint\u001b[0m\u001b[0;34m(\u001b[0m\u001b[0mvalidate_epoch\u001b[0m\u001b[0;34m(\u001b[0m\u001b[0mlinear1\u001b[0m\u001b[0;34m)\u001b[0m\u001b[0;34m)\u001b[0m\u001b[0;34m\u001b[0m\u001b[0;34m\u001b[0m\u001b[0m\n",
            "\u001b[0;32m<ipython-input-54-8560c0a468af>\u001b[0m in \u001b[0;36mtrain_epoch\u001b[0;34m(model, lr, params)\u001b[0m\n\u001b[1;32m     37\u001b[0m   \u001b[0;31m# Update params(parameters), using SGD with learning rate = lr\u001b[0m\u001b[0;34m\u001b[0m\u001b[0;34m\u001b[0m\u001b[0;34m\u001b[0m\u001b[0m\n\u001b[1;32m     38\u001b[0m   \u001b[0;32mfor\u001b[0m \u001b[0mxb\u001b[0m\u001b[0;34m,\u001b[0m \u001b[0myb\u001b[0m \u001b[0;32min\u001b[0m \u001b[0mdl\u001b[0m\u001b[0;34m:\u001b[0m\u001b[0;34m\u001b[0m\u001b[0;34m\u001b[0m\u001b[0m\n\u001b[0;32m---> 39\u001b[0;31m     \u001b[0mcalc_grad\u001b[0m\u001b[0;34m(\u001b[0m\u001b[0mxb\u001b[0m\u001b[0;34m,\u001b[0m \u001b[0myb\u001b[0m\u001b[0;34m,\u001b[0m \u001b[0mmodel\u001b[0m\u001b[0;34m)\u001b[0m\u001b[0;34m\u001b[0m\u001b[0;34m\u001b[0m\u001b[0m\n\u001b[0m\u001b[1;32m     40\u001b[0m     \u001b[0;32mfor\u001b[0m \u001b[0mp\u001b[0m \u001b[0;32min\u001b[0m \u001b[0mparams\u001b[0m \u001b[0;34m:\u001b[0m\u001b[0;34m\u001b[0m\u001b[0;34m\u001b[0m\u001b[0m\n\u001b[1;32m     41\u001b[0m       \u001b[0mp\u001b[0m\u001b[0;34m.\u001b[0m\u001b[0mdata\u001b[0m \u001b[0;34m-=\u001b[0m \u001b[0mp\u001b[0m\u001b[0;34m.\u001b[0m\u001b[0mgrad\u001b[0m \u001b[0;34m*\u001b[0m \u001b[0mlr\u001b[0m\u001b[0;34m\u001b[0m\u001b[0;34m\u001b[0m\u001b[0m\n",
            "\u001b[0;32m<ipython-input-54-8560c0a468af>\u001b[0m in \u001b[0;36mcalc_grad\u001b[0;34m(xb, yb, model)\u001b[0m\n\u001b[1;32m     31\u001b[0m   \u001b[0mpreds\u001b[0m \u001b[0;34m=\u001b[0m \u001b[0mmodel\u001b[0m\u001b[0;34m(\u001b[0m\u001b[0mxb\u001b[0m\u001b[0;34m)\u001b[0m\u001b[0;34m\u001b[0m\u001b[0;34m\u001b[0m\u001b[0m\n\u001b[1;32m     32\u001b[0m   \u001b[0mloss\u001b[0m \u001b[0;34m=\u001b[0m \u001b[0mmnist_loss\u001b[0m\u001b[0;34m(\u001b[0m\u001b[0mpreds\u001b[0m\u001b[0;34m,\u001b[0m \u001b[0myb\u001b[0m\u001b[0;34m)\u001b[0m\u001b[0;34m\u001b[0m\u001b[0;34m\u001b[0m\u001b[0m\n\u001b[0;32m---> 33\u001b[0;31m   \u001b[0mloss\u001b[0m\u001b[0;34m.\u001b[0m\u001b[0mbackward\u001b[0m\u001b[0;34m(\u001b[0m\u001b[0;34m)\u001b[0m\u001b[0;34m\u001b[0m\u001b[0;34m\u001b[0m\u001b[0m\n\u001b[0m\u001b[1;32m     34\u001b[0m \u001b[0;34m\u001b[0m\u001b[0m\n\u001b[1;32m     35\u001b[0m \u001b[0;32mdef\u001b[0m \u001b[0mtrain_epoch\u001b[0m\u001b[0;34m(\u001b[0m\u001b[0mmodel\u001b[0m\u001b[0;34m,\u001b[0m \u001b[0mlr\u001b[0m\u001b[0;34m,\u001b[0m \u001b[0mparams\u001b[0m\u001b[0;34m)\u001b[0m\u001b[0;34m:\u001b[0m\u001b[0;34m\u001b[0m\u001b[0;34m\u001b[0m\u001b[0m\n",
            "\u001b[0;32m/usr/local/lib/python3.8/dist-packages/torch/_tensor.py\u001b[0m in \u001b[0;36mbackward\u001b[0;34m(self, gradient, retain_graph, create_graph, inputs)\u001b[0m\n\u001b[1;32m    485\u001b[0m                 \u001b[0minputs\u001b[0m\u001b[0;34m=\u001b[0m\u001b[0minputs\u001b[0m\u001b[0;34m,\u001b[0m\u001b[0;34m\u001b[0m\u001b[0;34m\u001b[0m\u001b[0m\n\u001b[1;32m    486\u001b[0m             )\n\u001b[0;32m--> 487\u001b[0;31m         torch.autograd.backward(\n\u001b[0m\u001b[1;32m    488\u001b[0m             \u001b[0mself\u001b[0m\u001b[0;34m,\u001b[0m \u001b[0mgradient\u001b[0m\u001b[0;34m,\u001b[0m \u001b[0mretain_graph\u001b[0m\u001b[0;34m,\u001b[0m \u001b[0mcreate_graph\u001b[0m\u001b[0;34m,\u001b[0m \u001b[0minputs\u001b[0m\u001b[0;34m=\u001b[0m\u001b[0minputs\u001b[0m\u001b[0;34m\u001b[0m\u001b[0;34m\u001b[0m\u001b[0m\n\u001b[1;32m    489\u001b[0m         )\n",
            "\u001b[0;32m/usr/local/lib/python3.8/dist-packages/torch/autograd/__init__.py\u001b[0m in \u001b[0;36mbackward\u001b[0;34m(tensors, grad_tensors, retain_graph, create_graph, grad_variables, inputs)\u001b[0m\n\u001b[1;32m    195\u001b[0m     \u001b[0;31m# some Python versions print out the first line of a multi-line function\u001b[0m\u001b[0;34m\u001b[0m\u001b[0;34m\u001b[0m\u001b[0;34m\u001b[0m\u001b[0m\n\u001b[1;32m    196\u001b[0m     \u001b[0;31m# calls in the traceback and some print out the last line\u001b[0m\u001b[0;34m\u001b[0m\u001b[0;34m\u001b[0m\u001b[0;34m\u001b[0m\u001b[0m\n\u001b[0;32m--> 197\u001b[0;31m     Variable._execution_engine.run_backward(  # Calls into the C++ engine to run the backward pass\n\u001b[0m\u001b[1;32m    198\u001b[0m         \u001b[0mtensors\u001b[0m\u001b[0;34m,\u001b[0m \u001b[0mgrad_tensors_\u001b[0m\u001b[0;34m,\u001b[0m \u001b[0mretain_graph\u001b[0m\u001b[0;34m,\u001b[0m \u001b[0mcreate_graph\u001b[0m\u001b[0;34m,\u001b[0m \u001b[0minputs\u001b[0m\u001b[0;34m,\u001b[0m\u001b[0;34m\u001b[0m\u001b[0;34m\u001b[0m\u001b[0m\n\u001b[1;32m    199\u001b[0m         allow_unreachable=True, accumulate_grad=True)  # Calls into the C++ engine to run the backward pass\n",
            "\u001b[0;31mRuntimeError\u001b[0m: element 0 of tensors does not require grad and does not have a grad_fn"
          ]
        }
      ]
    },
    {
      "cell_type": "code",
      "source": [],
      "metadata": {
        "id": "J_LS1UPl9VMC"
      },
      "execution_count": 51,
      "outputs": []
    }
  ]
}